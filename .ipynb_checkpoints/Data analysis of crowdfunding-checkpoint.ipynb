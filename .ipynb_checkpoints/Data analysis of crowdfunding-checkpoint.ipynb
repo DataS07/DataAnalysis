{
 "cells": [
  {
   "cell_type": "markdown",
   "metadata": {},
   "source": [
    "## The dataset\n",
    "Kickstarter is one of the main online crowdfunding platforms in the world. The dataset provided contains more de 300,000 projects launched on the platform in 2018. In the `data.csv` file there are the following columns:\n",
    "\n",
    "- **ID**: internal ID, _numeric_\n",
    "- **name**: name of the project, _string_\n",
    "- **category**: project's category, _string_\n",
    "- **main_category**: campaign's category, _string_\n",
    "- **currency**: project's currency, _string_\n",
    "- **deadline**: project's deadline date, _timestamp_\n",
    "- **goal**: fundraising goal, _numeric_\n",
    "- **launched**: project's start date, _timestamp_\n",
    "- **pledged**: amount pledged by backers (project's currency), _numeric_\n",
    "- **state**: project's current state, _string_; **this is what you have to predict**\n",
    "- **backers**: amount of poeple that backed the project, _numeric_\n",
    "- **country**: project's country, _string_\n",
    "- **usd pledged**: amount pledged by backers converted to USD (conversion made by KS), _numeric_\n",
    "- **usd_pledged_real**: amount pledged by backers converted to USD (conversion made by fixer.io api), _numeric_\n",
    "- **usd_goal_real**: fundraising goal is USD, _numeric_\n",
    "\n",
    "## Goal\n",
    "Goal is to predict whether a project will be successful or not. \n",
    "1. Find out, which features you will use and which model. \n",
    "2. By performance metrics find out when/which the model is good enough. "
   ]
  },
  {
   "cell_type": "markdown",
   "metadata": {},
   "source": [
    "# Project Info\n",
    "\n",
    "#### This notebook only holds the analysis, training and testing code. However current directory has other python files which has to be used for the testing purpose. [training.py, testing.py]"
   ]
  },
  {
   "cell_type": "code",
   "execution_count": 1,
   "metadata": {},
   "outputs": [
    {
     "name": "stderr",
     "output_type": "stream",
     "text": [
      "/Users/anilnayak/opt/anaconda3/lib/python3.7/site-packages/sklearn/externals/joblib/__init__.py:15: DeprecationWarning: sklearn.externals.joblib is deprecated in 0.21 and will be removed in 0.23. Please import this functionality directly from joblib, which can be installed with: pip install joblib. If this warning is raised when loading pickled models, you may need to re-serialize those models with scikit-learn 0.21+.\n",
      "  warnings.warn(msg, category=DeprecationWarning)\n",
      "Using TensorFlow backend.\n"
     ]
    }
   ],
   "source": [
    "# Required Library Imports\n",
    "import pandas as pd\n",
    "import numpy as np\n",
    "from sklearn.utils import shuffle\n",
    "from sklearn.model_selection import train_test_split\n",
    "from sklearn import svm\n",
    "from sklearn.preprocessing import MinMaxScaler, StandardScaler\n",
    "from sklearn.preprocessing import LabelBinarizer\n",
    "import collections\n",
    "from sklearn.ensemble import RandomForestClassifier\n",
    "from sklearn.model_selection import cross_val_score\n",
    "from sklearn.externals import joblib\n",
    "from tqdm import tqdm\n",
    "import pickle\n",
    "from keras.models import load_model"
   ]
  },
  {
   "cell_type": "code",
   "execution_count": 2,
   "metadata": {},
   "outputs": [
    {
     "data": {
      "text/html": [
       "<div>\n",
       "<style scoped>\n",
       "    .dataframe tbody tr th:only-of-type {\n",
       "        vertical-align: middle;\n",
       "    }\n",
       "\n",
       "    .dataframe tbody tr th {\n",
       "        vertical-align: top;\n",
       "    }\n",
       "\n",
       "    .dataframe thead th {\n",
       "        text-align: right;\n",
       "    }\n",
       "</style>\n",
       "<table border=\"1\" class=\"dataframe\">\n",
       "  <thead>\n",
       "    <tr style=\"text-align: right;\">\n",
       "      <th></th>\n",
       "      <th>ID</th>\n",
       "      <th>goal</th>\n",
       "      <th>pledged</th>\n",
       "      <th>backers</th>\n",
       "      <th>usd pledged</th>\n",
       "      <th>usd_pledged_real</th>\n",
       "      <th>usd_goal_real</th>\n",
       "    </tr>\n",
       "  </thead>\n",
       "  <tbody>\n",
       "    <tr>\n",
       "      <td>count</td>\n",
       "      <td>3.786610e+05</td>\n",
       "      <td>3.786610e+05</td>\n",
       "      <td>3.786610e+05</td>\n",
       "      <td>378661.000000</td>\n",
       "      <td>3.748640e+05</td>\n",
       "      <td>3.786610e+05</td>\n",
       "      <td>3.786610e+05</td>\n",
       "    </tr>\n",
       "    <tr>\n",
       "      <td>mean</td>\n",
       "      <td>1.074731e+09</td>\n",
       "      <td>4.908079e+04</td>\n",
       "      <td>9.682979e+03</td>\n",
       "      <td>105.617476</td>\n",
       "      <td>7.036729e+03</td>\n",
       "      <td>9.058924e+03</td>\n",
       "      <td>4.545440e+04</td>\n",
       "    </tr>\n",
       "    <tr>\n",
       "      <td>std</td>\n",
       "      <td>6.190862e+08</td>\n",
       "      <td>1.183391e+06</td>\n",
       "      <td>9.563601e+04</td>\n",
       "      <td>907.185035</td>\n",
       "      <td>7.863975e+04</td>\n",
       "      <td>9.097334e+04</td>\n",
       "      <td>1.152950e+06</td>\n",
       "    </tr>\n",
       "    <tr>\n",
       "      <td>min</td>\n",
       "      <td>5.971000e+03</td>\n",
       "      <td>1.000000e-02</td>\n",
       "      <td>0.000000e+00</td>\n",
       "      <td>0.000000</td>\n",
       "      <td>0.000000e+00</td>\n",
       "      <td>0.000000e+00</td>\n",
       "      <td>1.000000e-02</td>\n",
       "    </tr>\n",
       "    <tr>\n",
       "      <td>25%</td>\n",
       "      <td>5.382635e+08</td>\n",
       "      <td>2.000000e+03</td>\n",
       "      <td>3.000000e+01</td>\n",
       "      <td>2.000000</td>\n",
       "      <td>1.698000e+01</td>\n",
       "      <td>3.100000e+01</td>\n",
       "      <td>2.000000e+03</td>\n",
       "    </tr>\n",
       "    <tr>\n",
       "      <td>50%</td>\n",
       "      <td>1.075276e+09</td>\n",
       "      <td>5.200000e+03</td>\n",
       "      <td>6.200000e+02</td>\n",
       "      <td>12.000000</td>\n",
       "      <td>3.947200e+02</td>\n",
       "      <td>6.243300e+02</td>\n",
       "      <td>5.500000e+03</td>\n",
       "    </tr>\n",
       "    <tr>\n",
       "      <td>75%</td>\n",
       "      <td>1.610149e+09</td>\n",
       "      <td>1.600000e+04</td>\n",
       "      <td>4.076000e+03</td>\n",
       "      <td>56.000000</td>\n",
       "      <td>3.034090e+03</td>\n",
       "      <td>4.050000e+03</td>\n",
       "      <td>1.550000e+04</td>\n",
       "    </tr>\n",
       "    <tr>\n",
       "      <td>max</td>\n",
       "      <td>2.147476e+09</td>\n",
       "      <td>1.000000e+08</td>\n",
       "      <td>2.033899e+07</td>\n",
       "      <td>219382.000000</td>\n",
       "      <td>2.033899e+07</td>\n",
       "      <td>2.033899e+07</td>\n",
       "      <td>1.663614e+08</td>\n",
       "    </tr>\n",
       "  </tbody>\n",
       "</table>\n",
       "</div>"
      ],
      "text/plain": [
       "                 ID          goal       pledged        backers   usd pledged  \\\n",
       "count  3.786610e+05  3.786610e+05  3.786610e+05  378661.000000  3.748640e+05   \n",
       "mean   1.074731e+09  4.908079e+04  9.682979e+03     105.617476  7.036729e+03   \n",
       "std    6.190862e+08  1.183391e+06  9.563601e+04     907.185035  7.863975e+04   \n",
       "min    5.971000e+03  1.000000e-02  0.000000e+00       0.000000  0.000000e+00   \n",
       "25%    5.382635e+08  2.000000e+03  3.000000e+01       2.000000  1.698000e+01   \n",
       "50%    1.075276e+09  5.200000e+03  6.200000e+02      12.000000  3.947200e+02   \n",
       "75%    1.610149e+09  1.600000e+04  4.076000e+03      56.000000  3.034090e+03   \n",
       "max    2.147476e+09  1.000000e+08  2.033899e+07  219382.000000  2.033899e+07   \n",
       "\n",
       "       usd_pledged_real  usd_goal_real  \n",
       "count      3.786610e+05   3.786610e+05  \n",
       "mean       9.058924e+03   4.545440e+04  \n",
       "std        9.097334e+04   1.152950e+06  \n",
       "min        0.000000e+00   1.000000e-02  \n",
       "25%        3.100000e+01   2.000000e+03  \n",
       "50%        6.243300e+02   5.500000e+03  \n",
       "75%        4.050000e+03   1.550000e+04  \n",
       "max        2.033899e+07   1.663614e+08  "
      ]
     },
     "execution_count": 2,
     "metadata": {},
     "output_type": "execute_result"
    }
   ],
   "source": [
    "#loading data.csv\n",
    "data_frame = pd.read_csv('data.csv')\n",
    "data_frame.describe()"
   ]
  },
  {
   "cell_type": "code",
   "execution_count": 3,
   "metadata": {},
   "outputs": [
    {
     "data": {
      "text/plain": [
       "Index(['ID', 'name', 'category', 'main_category', 'currency', 'deadline',\n",
       "       'goal', 'launched', 'pledged', 'state', 'backers', 'country',\n",
       "       'usd pledged', 'usd_pledged_real', 'usd_goal_real'],\n",
       "      dtype='object')"
      ]
     },
     "execution_count": 3,
     "metadata": {},
     "output_type": "execute_result"
    }
   ],
   "source": [
    "data_frame.columns"
   ]
  },
  {
   "cell_type": "code",
   "execution_count": 4,
   "metadata": {},
   "outputs": [
    {
     "data": {
      "text/html": [
       "<div>\n",
       "<style scoped>\n",
       "    .dataframe tbody tr th:only-of-type {\n",
       "        vertical-align: middle;\n",
       "    }\n",
       "\n",
       "    .dataframe tbody tr th {\n",
       "        vertical-align: top;\n",
       "    }\n",
       "\n",
       "    .dataframe thead th {\n",
       "        text-align: right;\n",
       "    }\n",
       "</style>\n",
       "<table border=\"1\" class=\"dataframe\">\n",
       "  <thead>\n",
       "    <tr style=\"text-align: right;\">\n",
       "      <th></th>\n",
       "      <th>ID</th>\n",
       "      <th>name</th>\n",
       "      <th>category</th>\n",
       "      <th>main_category</th>\n",
       "      <th>currency</th>\n",
       "      <th>deadline</th>\n",
       "      <th>goal</th>\n",
       "      <th>launched</th>\n",
       "      <th>pledged</th>\n",
       "      <th>state</th>\n",
       "      <th>backers</th>\n",
       "      <th>country</th>\n",
       "      <th>usd pledged</th>\n",
       "      <th>usd_pledged_real</th>\n",
       "      <th>usd_goal_real</th>\n",
       "    </tr>\n",
       "  </thead>\n",
       "  <tbody>\n",
       "    <tr>\n",
       "      <td>0</td>\n",
       "      <td>1000002330</td>\n",
       "      <td>The Songs of Adelaide &amp; Abullah</td>\n",
       "      <td>Poetry</td>\n",
       "      <td>Publishing</td>\n",
       "      <td>GBP</td>\n",
       "      <td>2015-10-09</td>\n",
       "      <td>1000.0</td>\n",
       "      <td>2015-08-11 12:12:28</td>\n",
       "      <td>0.0</td>\n",
       "      <td>failed</td>\n",
       "      <td>0</td>\n",
       "      <td>GB</td>\n",
       "      <td>0.0</td>\n",
       "      <td>0.0</td>\n",
       "      <td>1533.95</td>\n",
       "    </tr>\n",
       "    <tr>\n",
       "      <td>1</td>\n",
       "      <td>1000003930</td>\n",
       "      <td>Greeting From Earth: ZGAC Arts Capsule For ET</td>\n",
       "      <td>Narrative Film</td>\n",
       "      <td>Film &amp; Video</td>\n",
       "      <td>USD</td>\n",
       "      <td>2017-11-01</td>\n",
       "      <td>30000.0</td>\n",
       "      <td>2017-09-02 04:43:57</td>\n",
       "      <td>2421.0</td>\n",
       "      <td>failed</td>\n",
       "      <td>15</td>\n",
       "      <td>US</td>\n",
       "      <td>100.0</td>\n",
       "      <td>2421.0</td>\n",
       "      <td>30000.00</td>\n",
       "    </tr>\n",
       "    <tr>\n",
       "      <td>2</td>\n",
       "      <td>1000004038</td>\n",
       "      <td>Where is Hank?</td>\n",
       "      <td>Narrative Film</td>\n",
       "      <td>Film &amp; Video</td>\n",
       "      <td>USD</td>\n",
       "      <td>2013-02-26</td>\n",
       "      <td>45000.0</td>\n",
       "      <td>2013-01-12 00:20:50</td>\n",
       "      <td>220.0</td>\n",
       "      <td>failed</td>\n",
       "      <td>3</td>\n",
       "      <td>US</td>\n",
       "      <td>220.0</td>\n",
       "      <td>220.0</td>\n",
       "      <td>45000.00</td>\n",
       "    </tr>\n",
       "    <tr>\n",
       "      <td>3</td>\n",
       "      <td>1000007540</td>\n",
       "      <td>ToshiCapital Rekordz Needs Help to Complete Album</td>\n",
       "      <td>Music</td>\n",
       "      <td>Music</td>\n",
       "      <td>USD</td>\n",
       "      <td>2012-04-16</td>\n",
       "      <td>5000.0</td>\n",
       "      <td>2012-03-17 03:24:11</td>\n",
       "      <td>1.0</td>\n",
       "      <td>failed</td>\n",
       "      <td>1</td>\n",
       "      <td>US</td>\n",
       "      <td>1.0</td>\n",
       "      <td>1.0</td>\n",
       "      <td>5000.00</td>\n",
       "    </tr>\n",
       "    <tr>\n",
       "      <td>4</td>\n",
       "      <td>1000011046</td>\n",
       "      <td>Community Film Project: The Art of Neighborhoo...</td>\n",
       "      <td>Film &amp; Video</td>\n",
       "      <td>Film &amp; Video</td>\n",
       "      <td>USD</td>\n",
       "      <td>2015-08-29</td>\n",
       "      <td>19500.0</td>\n",
       "      <td>2015-07-04 08:35:03</td>\n",
       "      <td>1283.0</td>\n",
       "      <td>canceled</td>\n",
       "      <td>14</td>\n",
       "      <td>US</td>\n",
       "      <td>1283.0</td>\n",
       "      <td>1283.0</td>\n",
       "      <td>19500.00</td>\n",
       "    </tr>\n",
       "  </tbody>\n",
       "</table>\n",
       "</div>"
      ],
      "text/plain": [
       "           ID                                               name  \\\n",
       "0  1000002330                    The Songs of Adelaide & Abullah   \n",
       "1  1000003930      Greeting From Earth: ZGAC Arts Capsule For ET   \n",
       "2  1000004038                                     Where is Hank?   \n",
       "3  1000007540  ToshiCapital Rekordz Needs Help to Complete Album   \n",
       "4  1000011046  Community Film Project: The Art of Neighborhoo...   \n",
       "\n",
       "         category main_category currency    deadline     goal  \\\n",
       "0          Poetry    Publishing      GBP  2015-10-09   1000.0   \n",
       "1  Narrative Film  Film & Video      USD  2017-11-01  30000.0   \n",
       "2  Narrative Film  Film & Video      USD  2013-02-26  45000.0   \n",
       "3           Music         Music      USD  2012-04-16   5000.0   \n",
       "4    Film & Video  Film & Video      USD  2015-08-29  19500.0   \n",
       "\n",
       "              launched  pledged     state  backers country  usd pledged  \\\n",
       "0  2015-08-11 12:12:28      0.0    failed        0      GB          0.0   \n",
       "1  2017-09-02 04:43:57   2421.0    failed       15      US        100.0   \n",
       "2  2013-01-12 00:20:50    220.0    failed        3      US        220.0   \n",
       "3  2012-03-17 03:24:11      1.0    failed        1      US          1.0   \n",
       "4  2015-07-04 08:35:03   1283.0  canceled       14      US       1283.0   \n",
       "\n",
       "   usd_pledged_real  usd_goal_real  \n",
       "0               0.0        1533.95  \n",
       "1            2421.0       30000.00  \n",
       "2             220.0       45000.00  \n",
       "3               1.0        5000.00  \n",
       "4            1283.0       19500.00  "
      ]
     },
     "execution_count": 4,
     "metadata": {},
     "output_type": "execute_result"
    }
   ],
   "source": [
    "data_frame.head()"
   ]
  },
  {
   "cell_type": "markdown",
   "metadata": {},
   "source": [
    "# Cleaning Data\n",
    "1. This is the very crucial stage before we start the data analysis. Here we will clean the unnecessary data values.\n",
    "2. Clean all Null, NaN values, which does not hold any useful information for our data analysis\n",
    "\n",
    "### This cleaning can be done in many ways.\n",
    "1. Remove the rows where any column has Null, NaN values\n",
    "2. If any column has Null or NaN values, we will replace that Null and NaN with the proper value. We can fill by taking distribution of the column values.\n",
    "3. We can fill the int values with 0 (zero)."
   ]
  },
  {
   "cell_type": "code",
   "execution_count": 5,
   "metadata": {},
   "outputs": [],
   "source": [
    "data_frame = data_frame[['category','main_category','currency',\n",
    "                         'deadline','goal', 'launched', 'pledged','state', \n",
    "                         'backers','usd pledged', 'usd_pledged_real', 'usd_goal_real']]"
   ]
  },
  {
   "cell_type": "code",
   "execution_count": 6,
   "metadata": {},
   "outputs": [
    {
     "data": {
      "text/plain": [
       "True"
      ]
     },
     "execution_count": 6,
     "metadata": {},
     "output_type": "execute_result"
    }
   ],
   "source": [
    "data_frame.isnull().values.any()"
   ]
  },
  {
   "cell_type": "code",
   "execution_count": 7,
   "metadata": {},
   "outputs": [
    {
     "data": {
      "text/plain": [
       "array(['failed', 'canceled', 'successful', 'live', 'undefined',\n",
       "       'suspended'], dtype=object)"
      ]
     },
     "execution_count": 7,
     "metadata": {},
     "output_type": "execute_result"
    }
   ],
   "source": [
    "data_frame.state.unique()\n",
    "# assuming apart from 'successful' all other are unsuccessful"
   ]
  },
  {
   "cell_type": "markdown",
   "metadata": {},
   "source": [
    "### Finding Null or nan and fill with data"
   ]
  },
  {
   "cell_type": "code",
   "execution_count": 8,
   "metadata": {},
   "outputs": [
    {
     "data": {
      "text/html": [
       "<div>\n",
       "<style scoped>\n",
       "    .dataframe tbody tr th:only-of-type {\n",
       "        vertical-align: middle;\n",
       "    }\n",
       "\n",
       "    .dataframe tbody tr th {\n",
       "        vertical-align: top;\n",
       "    }\n",
       "\n",
       "    .dataframe thead th {\n",
       "        text-align: right;\n",
       "    }\n",
       "</style>\n",
       "<table border=\"1\" class=\"dataframe\">\n",
       "  <thead>\n",
       "    <tr style=\"text-align: right;\">\n",
       "      <th></th>\n",
       "      <th>category</th>\n",
       "      <th>main_category</th>\n",
       "      <th>currency</th>\n",
       "      <th>deadline</th>\n",
       "      <th>goal</th>\n",
       "      <th>launched</th>\n",
       "      <th>pledged</th>\n",
       "      <th>state</th>\n",
       "      <th>backers</th>\n",
       "      <th>usd pledged</th>\n",
       "      <th>usd_pledged_real</th>\n",
       "      <th>usd_goal_real</th>\n",
       "    </tr>\n",
       "  </thead>\n",
       "  <tbody>\n",
       "    <tr>\n",
       "      <td>169</td>\n",
       "      <td>Film &amp; Video</td>\n",
       "      <td>Film &amp; Video</td>\n",
       "      <td>USD</td>\n",
       "      <td>2014-09-20</td>\n",
       "      <td>6500.0</td>\n",
       "      <td>2014-08-06 21:28:36</td>\n",
       "      <td>555.00</td>\n",
       "      <td>undefined</td>\n",
       "      <td>0</td>\n",
       "      <td>NaN</td>\n",
       "      <td>555.00</td>\n",
       "      <td>6500.00</td>\n",
       "    </tr>\n",
       "    <tr>\n",
       "      <td>328</td>\n",
       "      <td>Music</td>\n",
       "      <td>Music</td>\n",
       "      <td>AUD</td>\n",
       "      <td>2015-08-25</td>\n",
       "      <td>4500.0</td>\n",
       "      <td>2015-08-04 12:05:17</td>\n",
       "      <td>4767.00</td>\n",
       "      <td>undefined</td>\n",
       "      <td>0</td>\n",
       "      <td>NaN</td>\n",
       "      <td>3402.08</td>\n",
       "      <td>3211.53</td>\n",
       "    </tr>\n",
       "    <tr>\n",
       "      <td>632</td>\n",
       "      <td>Music</td>\n",
       "      <td>Music</td>\n",
       "      <td>USD</td>\n",
       "      <td>2015-04-09</td>\n",
       "      <td>3500.0</td>\n",
       "      <td>2015-03-10 20:06:13</td>\n",
       "      <td>3576.00</td>\n",
       "      <td>undefined</td>\n",
       "      <td>0</td>\n",
       "      <td>NaN</td>\n",
       "      <td>3576.00</td>\n",
       "      <td>3500.00</td>\n",
       "    </tr>\n",
       "    <tr>\n",
       "      <td>647</td>\n",
       "      <td>Music</td>\n",
       "      <td>Music</td>\n",
       "      <td>USD</td>\n",
       "      <td>2015-11-26</td>\n",
       "      <td>6000.0</td>\n",
       "      <td>2015-11-02 22:09:19</td>\n",
       "      <td>7007.80</td>\n",
       "      <td>undefined</td>\n",
       "      <td>0</td>\n",
       "      <td>NaN</td>\n",
       "      <td>7007.80</td>\n",
       "      <td>6000.00</td>\n",
       "    </tr>\n",
       "    <tr>\n",
       "      <td>749</td>\n",
       "      <td>Music</td>\n",
       "      <td>Music</td>\n",
       "      <td>USD</td>\n",
       "      <td>2016-03-21</td>\n",
       "      <td>3000.0</td>\n",
       "      <td>2016-02-23 03:09:49</td>\n",
       "      <td>3660.38</td>\n",
       "      <td>undefined</td>\n",
       "      <td>0</td>\n",
       "      <td>NaN</td>\n",
       "      <td>3660.38</td>\n",
       "      <td>3000.00</td>\n",
       "    </tr>\n",
       "    <tr>\n",
       "      <td>824</td>\n",
       "      <td>Music</td>\n",
       "      <td>Music</td>\n",
       "      <td>CAD</td>\n",
       "      <td>2014-10-10</td>\n",
       "      <td>4000.0</td>\n",
       "      <td>2014-09-10 22:51:01</td>\n",
       "      <td>4760.00</td>\n",
       "      <td>undefined</td>\n",
       "      <td>0</td>\n",
       "      <td>NaN</td>\n",
       "      <td>4251.14</td>\n",
       "      <td>3572.39</td>\n",
       "    </tr>\n",
       "    <tr>\n",
       "      <td>844</td>\n",
       "      <td>Music</td>\n",
       "      <td>Music</td>\n",
       "      <td>USD</td>\n",
       "      <td>2015-06-11</td>\n",
       "      <td>5000.0</td>\n",
       "      <td>2015-05-15 02:12:35</td>\n",
       "      <td>6370.00</td>\n",
       "      <td>undefined</td>\n",
       "      <td>0</td>\n",
       "      <td>NaN</td>\n",
       "      <td>6370.00</td>\n",
       "      <td>5000.00</td>\n",
       "    </tr>\n",
       "    <tr>\n",
       "      <td>864</td>\n",
       "      <td>Film &amp; Video</td>\n",
       "      <td>Film &amp; Video</td>\n",
       "      <td>USD</td>\n",
       "      <td>2015-11-07</td>\n",
       "      <td>6000.0</td>\n",
       "      <td>2015-10-10 18:45:24</td>\n",
       "      <td>6695.00</td>\n",
       "      <td>undefined</td>\n",
       "      <td>0</td>\n",
       "      <td>NaN</td>\n",
       "      <td>6695.00</td>\n",
       "      <td>6000.00</td>\n",
       "    </tr>\n",
       "    <tr>\n",
       "      <td>870</td>\n",
       "      <td>Music</td>\n",
       "      <td>Music</td>\n",
       "      <td>USD</td>\n",
       "      <td>2015-03-28</td>\n",
       "      <td>2750.0</td>\n",
       "      <td>2015-02-11 19:28:27</td>\n",
       "      <td>2926.00</td>\n",
       "      <td>undefined</td>\n",
       "      <td>0</td>\n",
       "      <td>NaN</td>\n",
       "      <td>2926.00</td>\n",
       "      <td>2750.00</td>\n",
       "    </tr>\n",
       "    <tr>\n",
       "      <td>890</td>\n",
       "      <td>Music</td>\n",
       "      <td>Music</td>\n",
       "      <td>USD</td>\n",
       "      <td>2015-12-11</td>\n",
       "      <td>1200.0</td>\n",
       "      <td>2015-11-11 21:02:55</td>\n",
       "      <td>1585.00</td>\n",
       "      <td>undefined</td>\n",
       "      <td>0</td>\n",
       "      <td>NaN</td>\n",
       "      <td>1585.00</td>\n",
       "      <td>1200.00</td>\n",
       "    </tr>\n",
       "  </tbody>\n",
       "</table>\n",
       "</div>"
      ],
      "text/plain": [
       "         category main_category currency    deadline    goal  \\\n",
       "169  Film & Video  Film & Video      USD  2014-09-20  6500.0   \n",
       "328         Music         Music      AUD  2015-08-25  4500.0   \n",
       "632         Music         Music      USD  2015-04-09  3500.0   \n",
       "647         Music         Music      USD  2015-11-26  6000.0   \n",
       "749         Music         Music      USD  2016-03-21  3000.0   \n",
       "824         Music         Music      CAD  2014-10-10  4000.0   \n",
       "844         Music         Music      USD  2015-06-11  5000.0   \n",
       "864  Film & Video  Film & Video      USD  2015-11-07  6000.0   \n",
       "870         Music         Music      USD  2015-03-28  2750.0   \n",
       "890         Music         Music      USD  2015-12-11  1200.0   \n",
       "\n",
       "                launched  pledged      state  backers  usd pledged  \\\n",
       "169  2014-08-06 21:28:36   555.00  undefined        0          NaN   \n",
       "328  2015-08-04 12:05:17  4767.00  undefined        0          NaN   \n",
       "632  2015-03-10 20:06:13  3576.00  undefined        0          NaN   \n",
       "647  2015-11-02 22:09:19  7007.80  undefined        0          NaN   \n",
       "749  2016-02-23 03:09:49  3660.38  undefined        0          NaN   \n",
       "824  2014-09-10 22:51:01  4760.00  undefined        0          NaN   \n",
       "844  2015-05-15 02:12:35  6370.00  undefined        0          NaN   \n",
       "864  2015-10-10 18:45:24  6695.00  undefined        0          NaN   \n",
       "870  2015-02-11 19:28:27  2926.00  undefined        0          NaN   \n",
       "890  2015-11-11 21:02:55  1585.00  undefined        0          NaN   \n",
       "\n",
       "     usd_pledged_real  usd_goal_real  \n",
       "169            555.00        6500.00  \n",
       "328           3402.08        3211.53  \n",
       "632           3576.00        3500.00  \n",
       "647           7007.80        6000.00  \n",
       "749           3660.38        3000.00  \n",
       "824           4251.14        3572.39  \n",
       "844           6370.00        5000.00  \n",
       "864           6695.00        6000.00  \n",
       "870           2926.00        2750.00  \n",
       "890           1585.00        1200.00  "
      ]
     },
     "execution_count": 8,
     "metadata": {},
     "output_type": "execute_result"
    }
   ],
   "source": [
    "# finding Null valued rows\n",
    "data_frame[data_frame.isnull().any(axis=1)][0:10]"
   ]
  },
  {
   "cell_type": "code",
   "execution_count": 9,
   "metadata": {},
   "outputs": [
    {
     "data": {
      "text/plain": [
       "category            False\n",
       "main_category       False\n",
       "currency            False\n",
       "deadline            False\n",
       "goal                False\n",
       "launched            False\n",
       "pledged             False\n",
       "state               False\n",
       "backers             False\n",
       "usd pledged          True\n",
       "usd_pledged_real    False\n",
       "usd_goal_real       False\n",
       "dtype: bool"
      ]
     },
     "execution_count": 9,
     "metadata": {},
     "output_type": "execute_result"
    }
   ],
   "source": [
    "data_frame.isnull().any()"
   ]
  },
  {
   "cell_type": "code",
   "execution_count": 10,
   "metadata": {},
   "outputs": [
    {
     "data": {
      "text/plain": [
       "category            False\n",
       "main_category       False\n",
       "currency            False\n",
       "deadline            False\n",
       "goal                False\n",
       "launched            False\n",
       "pledged             False\n",
       "state               False\n",
       "backers             False\n",
       "usd pledged         False\n",
       "usd_pledged_real    False\n",
       "usd_goal_real       False\n",
       "dtype: bool"
      ]
     },
     "execution_count": 10,
     "metadata": {},
     "output_type": "execute_result"
    }
   ],
   "source": [
    "data_frame = data_frame.fillna(0.0)\n",
    "data_frame.isnull().any()"
   ]
  },
  {
   "cell_type": "code",
   "execution_count": 11,
   "metadata": {},
   "outputs": [
    {
     "data": {
      "text/html": [
       "<div>\n",
       "<style scoped>\n",
       "    .dataframe tbody tr th:only-of-type {\n",
       "        vertical-align: middle;\n",
       "    }\n",
       "\n",
       "    .dataframe tbody tr th {\n",
       "        vertical-align: top;\n",
       "    }\n",
       "\n",
       "    .dataframe thead th {\n",
       "        text-align: right;\n",
       "    }\n",
       "</style>\n",
       "<table border=\"1\" class=\"dataframe\">\n",
       "  <thead>\n",
       "    <tr style=\"text-align: right;\">\n",
       "      <th></th>\n",
       "      <th>category</th>\n",
       "      <th>main_category</th>\n",
       "      <th>currency</th>\n",
       "      <th>deadline</th>\n",
       "      <th>goal</th>\n",
       "      <th>launched</th>\n",
       "      <th>pledged</th>\n",
       "      <th>state</th>\n",
       "      <th>backers</th>\n",
       "      <th>usd pledged</th>\n",
       "      <th>usd_pledged_real</th>\n",
       "      <th>usd_goal_real</th>\n",
       "    </tr>\n",
       "  </thead>\n",
       "  <tbody>\n",
       "    <tr>\n",
       "      <td>0</td>\n",
       "      <td>Poetry</td>\n",
       "      <td>Publishing</td>\n",
       "      <td>GBP</td>\n",
       "      <td>2015-10-09</td>\n",
       "      <td>1000.0</td>\n",
       "      <td>2015-08-11 12:12:28</td>\n",
       "      <td>0.0</td>\n",
       "      <td>failed</td>\n",
       "      <td>0</td>\n",
       "      <td>0.0</td>\n",
       "      <td>0.0</td>\n",
       "      <td>1533.95</td>\n",
       "    </tr>\n",
       "    <tr>\n",
       "      <td>1</td>\n",
       "      <td>Narrative Film</td>\n",
       "      <td>Film &amp; Video</td>\n",
       "      <td>USD</td>\n",
       "      <td>2017-11-01</td>\n",
       "      <td>30000.0</td>\n",
       "      <td>2017-09-02 04:43:57</td>\n",
       "      <td>2421.0</td>\n",
       "      <td>failed</td>\n",
       "      <td>15</td>\n",
       "      <td>100.0</td>\n",
       "      <td>2421.0</td>\n",
       "      <td>30000.00</td>\n",
       "    </tr>\n",
       "    <tr>\n",
       "      <td>2</td>\n",
       "      <td>Narrative Film</td>\n",
       "      <td>Film &amp; Video</td>\n",
       "      <td>USD</td>\n",
       "      <td>2013-02-26</td>\n",
       "      <td>45000.0</td>\n",
       "      <td>2013-01-12 00:20:50</td>\n",
       "      <td>220.0</td>\n",
       "      <td>failed</td>\n",
       "      <td>3</td>\n",
       "      <td>220.0</td>\n",
       "      <td>220.0</td>\n",
       "      <td>45000.00</td>\n",
       "    </tr>\n",
       "    <tr>\n",
       "      <td>3</td>\n",
       "      <td>Music</td>\n",
       "      <td>Music</td>\n",
       "      <td>USD</td>\n",
       "      <td>2012-04-16</td>\n",
       "      <td>5000.0</td>\n",
       "      <td>2012-03-17 03:24:11</td>\n",
       "      <td>1.0</td>\n",
       "      <td>failed</td>\n",
       "      <td>1</td>\n",
       "      <td>1.0</td>\n",
       "      <td>1.0</td>\n",
       "      <td>5000.00</td>\n",
       "    </tr>\n",
       "    <tr>\n",
       "      <td>4</td>\n",
       "      <td>Film &amp; Video</td>\n",
       "      <td>Film &amp; Video</td>\n",
       "      <td>USD</td>\n",
       "      <td>2015-08-29</td>\n",
       "      <td>19500.0</td>\n",
       "      <td>2015-07-04 08:35:03</td>\n",
       "      <td>1283.0</td>\n",
       "      <td>canceled</td>\n",
       "      <td>14</td>\n",
       "      <td>1283.0</td>\n",
       "      <td>1283.0</td>\n",
       "      <td>19500.00</td>\n",
       "    </tr>\n",
       "  </tbody>\n",
       "</table>\n",
       "</div>"
      ],
      "text/plain": [
       "         category main_category currency    deadline     goal  \\\n",
       "0          Poetry    Publishing      GBP  2015-10-09   1000.0   \n",
       "1  Narrative Film  Film & Video      USD  2017-11-01  30000.0   \n",
       "2  Narrative Film  Film & Video      USD  2013-02-26  45000.0   \n",
       "3           Music         Music      USD  2012-04-16   5000.0   \n",
       "4    Film & Video  Film & Video      USD  2015-08-29  19500.0   \n",
       "\n",
       "              launched  pledged     state  backers  usd pledged  \\\n",
       "0  2015-08-11 12:12:28      0.0    failed        0          0.0   \n",
       "1  2017-09-02 04:43:57   2421.0    failed       15        100.0   \n",
       "2  2013-01-12 00:20:50    220.0    failed        3        220.0   \n",
       "3  2012-03-17 03:24:11      1.0    failed        1          1.0   \n",
       "4  2015-07-04 08:35:03   1283.0  canceled       14       1283.0   \n",
       "\n",
       "   usd_pledged_real  usd_goal_real  \n",
       "0               0.0        1533.95  \n",
       "1            2421.0       30000.00  \n",
       "2             220.0       45000.00  \n",
       "3               1.0        5000.00  \n",
       "4            1283.0       19500.00  "
      ]
     },
     "execution_count": 11,
     "metadata": {},
     "output_type": "execute_result"
    }
   ],
   "source": [
    "data_frame.head()"
   ]
  },
  {
   "cell_type": "code",
   "execution_count": 12,
   "metadata": {},
   "outputs": [
    {
     "data": {
      "text/plain": [
       "category             object\n",
       "main_category        object\n",
       "currency             object\n",
       "deadline             object\n",
       "goal                float64\n",
       "launched             object\n",
       "pledged             float64\n",
       "state                object\n",
       "backers               int64\n",
       "usd pledged         float64\n",
       "usd_pledged_real    float64\n",
       "usd_goal_real       float64\n",
       "dtype: object"
      ]
     },
     "execution_count": 12,
     "metadata": {},
     "output_type": "execute_result"
    }
   ],
   "source": [
    "data_frame.dtypes"
   ]
  },
  {
   "cell_type": "code",
   "execution_count": 13,
   "metadata": {},
   "outputs": [],
   "source": [
    "# from sklearn import preprocessing\n",
    "# d_norm = preprocessing.normalize(data_frame)"
   ]
  },
  {
   "cell_type": "markdown",
   "metadata": {},
   "source": [
    "# Separate Categorical and Continuous Data\n",
    "1. In Data analysis the Categorical and Continuous datas are handled in different manner.\n",
    "2. Continuous - should be normalized.\n",
    "3. Categorical - should be categories to some const values. In case of date, we can split the dates to MM, DD, YYYY values and use for data analysis"
   ]
  },
  {
   "cell_type": "code",
   "execution_count": 14,
   "metadata": {},
   "outputs": [],
   "source": [
    "categorical_data = data_frame.select_dtypes(include=['object']).copy()\n",
    "continuous_data = data_frame.select_dtypes(include=['float','int']).copy()"
   ]
  },
  {
   "cell_type": "code",
   "execution_count": 15,
   "metadata": {},
   "outputs": [
    {
     "data": {
      "text/html": [
       "<div>\n",
       "<style scoped>\n",
       "    .dataframe tbody tr th:only-of-type {\n",
       "        vertical-align: middle;\n",
       "    }\n",
       "\n",
       "    .dataframe tbody tr th {\n",
       "        vertical-align: top;\n",
       "    }\n",
       "\n",
       "    .dataframe thead th {\n",
       "        text-align: right;\n",
       "    }\n",
       "</style>\n",
       "<table border=\"1\" class=\"dataframe\">\n",
       "  <thead>\n",
       "    <tr style=\"text-align: right;\">\n",
       "      <th></th>\n",
       "      <th>category</th>\n",
       "      <th>main_category</th>\n",
       "      <th>currency</th>\n",
       "      <th>deadline</th>\n",
       "      <th>launched</th>\n",
       "      <th>state</th>\n",
       "    </tr>\n",
       "  </thead>\n",
       "  <tbody>\n",
       "    <tr>\n",
       "      <td>0</td>\n",
       "      <td>Poetry</td>\n",
       "      <td>Publishing</td>\n",
       "      <td>GBP</td>\n",
       "      <td>2015-10-09</td>\n",
       "      <td>2015-08-11 12:12:28</td>\n",
       "      <td>failed</td>\n",
       "    </tr>\n",
       "    <tr>\n",
       "      <td>1</td>\n",
       "      <td>Narrative Film</td>\n",
       "      <td>Film &amp; Video</td>\n",
       "      <td>USD</td>\n",
       "      <td>2017-11-01</td>\n",
       "      <td>2017-09-02 04:43:57</td>\n",
       "      <td>failed</td>\n",
       "    </tr>\n",
       "    <tr>\n",
       "      <td>2</td>\n",
       "      <td>Narrative Film</td>\n",
       "      <td>Film &amp; Video</td>\n",
       "      <td>USD</td>\n",
       "      <td>2013-02-26</td>\n",
       "      <td>2013-01-12 00:20:50</td>\n",
       "      <td>failed</td>\n",
       "    </tr>\n",
       "    <tr>\n",
       "      <td>3</td>\n",
       "      <td>Music</td>\n",
       "      <td>Music</td>\n",
       "      <td>USD</td>\n",
       "      <td>2012-04-16</td>\n",
       "      <td>2012-03-17 03:24:11</td>\n",
       "      <td>failed</td>\n",
       "    </tr>\n",
       "    <tr>\n",
       "      <td>4</td>\n",
       "      <td>Film &amp; Video</td>\n",
       "      <td>Film &amp; Video</td>\n",
       "      <td>USD</td>\n",
       "      <td>2015-08-29</td>\n",
       "      <td>2015-07-04 08:35:03</td>\n",
       "      <td>canceled</td>\n",
       "    </tr>\n",
       "  </tbody>\n",
       "</table>\n",
       "</div>"
      ],
      "text/plain": [
       "         category main_category currency    deadline             launched  \\\n",
       "0          Poetry    Publishing      GBP  2015-10-09  2015-08-11 12:12:28   \n",
       "1  Narrative Film  Film & Video      USD  2017-11-01  2017-09-02 04:43:57   \n",
       "2  Narrative Film  Film & Video      USD  2013-02-26  2013-01-12 00:20:50   \n",
       "3           Music         Music      USD  2012-04-16  2012-03-17 03:24:11   \n",
       "4    Film & Video  Film & Video      USD  2015-08-29  2015-07-04 08:35:03   \n",
       "\n",
       "      state  \n",
       "0    failed  \n",
       "1    failed  \n",
       "2    failed  \n",
       "3    failed  \n",
       "4  canceled  "
      ]
     },
     "execution_count": 15,
     "metadata": {},
     "output_type": "execute_result"
    }
   ],
   "source": [
    "categorical_data.head()"
   ]
  },
  {
   "cell_type": "code",
   "execution_count": 16,
   "metadata": {},
   "outputs": [
    {
     "data": {
      "text/html": [
       "<div>\n",
       "<style scoped>\n",
       "    .dataframe tbody tr th:only-of-type {\n",
       "        vertical-align: middle;\n",
       "    }\n",
       "\n",
       "    .dataframe tbody tr th {\n",
       "        vertical-align: top;\n",
       "    }\n",
       "\n",
       "    .dataframe thead th {\n",
       "        text-align: right;\n",
       "    }\n",
       "</style>\n",
       "<table border=\"1\" class=\"dataframe\">\n",
       "  <thead>\n",
       "    <tr style=\"text-align: right;\">\n",
       "      <th></th>\n",
       "      <th>goal</th>\n",
       "      <th>pledged</th>\n",
       "      <th>backers</th>\n",
       "      <th>usd pledged</th>\n",
       "      <th>usd_pledged_real</th>\n",
       "      <th>usd_goal_real</th>\n",
       "    </tr>\n",
       "  </thead>\n",
       "  <tbody>\n",
       "    <tr>\n",
       "      <td>0</td>\n",
       "      <td>1000.0</td>\n",
       "      <td>0.0</td>\n",
       "      <td>0</td>\n",
       "      <td>0.0</td>\n",
       "      <td>0.0</td>\n",
       "      <td>1533.95</td>\n",
       "    </tr>\n",
       "    <tr>\n",
       "      <td>1</td>\n",
       "      <td>30000.0</td>\n",
       "      <td>2421.0</td>\n",
       "      <td>15</td>\n",
       "      <td>100.0</td>\n",
       "      <td>2421.0</td>\n",
       "      <td>30000.00</td>\n",
       "    </tr>\n",
       "    <tr>\n",
       "      <td>2</td>\n",
       "      <td>45000.0</td>\n",
       "      <td>220.0</td>\n",
       "      <td>3</td>\n",
       "      <td>220.0</td>\n",
       "      <td>220.0</td>\n",
       "      <td>45000.00</td>\n",
       "    </tr>\n",
       "    <tr>\n",
       "      <td>3</td>\n",
       "      <td>5000.0</td>\n",
       "      <td>1.0</td>\n",
       "      <td>1</td>\n",
       "      <td>1.0</td>\n",
       "      <td>1.0</td>\n",
       "      <td>5000.00</td>\n",
       "    </tr>\n",
       "    <tr>\n",
       "      <td>4</td>\n",
       "      <td>19500.0</td>\n",
       "      <td>1283.0</td>\n",
       "      <td>14</td>\n",
       "      <td>1283.0</td>\n",
       "      <td>1283.0</td>\n",
       "      <td>19500.00</td>\n",
       "    </tr>\n",
       "  </tbody>\n",
       "</table>\n",
       "</div>"
      ],
      "text/plain": [
       "      goal  pledged  backers  usd pledged  usd_pledged_real  usd_goal_real\n",
       "0   1000.0      0.0        0          0.0               0.0        1533.95\n",
       "1  30000.0   2421.0       15        100.0            2421.0       30000.00\n",
       "2  45000.0    220.0        3        220.0             220.0       45000.00\n",
       "3   5000.0      1.0        1          1.0               1.0        5000.00\n",
       "4  19500.0   1283.0       14       1283.0            1283.0       19500.00"
      ]
     },
     "execution_count": 16,
     "metadata": {},
     "output_type": "execute_result"
    }
   ],
   "source": [
    "continuous_data.head()"
   ]
  },
  {
   "cell_type": "markdown",
   "metadata": {},
   "source": [
    "## Cardinality \n",
    "1. Cardinality refers to the number of values in a set\n",
    "2. Finding out the high cardinality columns. The high cadinality values can be converted to could of unique values, which will reduce the feature space."
   ]
  },
  {
   "cell_type": "code",
   "execution_count": 17,
   "metadata": {},
   "outputs": [],
   "source": [
    "# high cardinality \n",
    "category_stat = categorical_data['category'].value_counts()\n",
    "main_category_stat = categorical_data['main_category'].value_counts()\n",
    "currency_stat = categorical_data['currency'].value_counts()\n",
    "\n",
    "# ordinal features\n",
    "state_stat = categorical_data['state'].value_counts()\n",
    "\n",
    "# date column\n",
    "deadline_stat = categorical_data['deadline'].value_counts()\n",
    "launched_stat = categorical_data['launched'].value_counts()"
   ]
  },
  {
   "cell_type": "code",
   "execution_count": 18,
   "metadata": {},
   "outputs": [
    {
     "data": {
      "text/plain": [
       "0    2015-10-09\n",
       "1    2017-11-01\n",
       "2    2013-02-26\n",
       "3    2012-04-16\n",
       "4    2015-08-29\n",
       "Name: deadline, dtype: object"
      ]
     },
     "execution_count": 18,
     "metadata": {},
     "output_type": "execute_result"
    }
   ],
   "source": [
    "categorical_data.deadline.head()"
   ]
  },
  {
   "cell_type": "markdown",
   "metadata": {},
   "source": [
    "## Date Column split -  Year and Month"
   ]
  },
  {
   "cell_type": "code",
   "execution_count": 19,
   "metadata": {},
   "outputs": [],
   "source": [
    "# date Data\n",
    "df_deadline = pd.DataFrame(categorical_data.deadline.str.split('-').tolist(), columns = ['year_deadline',\n",
    "\t\t\t\t\t\t\t\t\t\t\t\t\t\t\t\t\t\t\t\t\t\t 'month_deadline',\n",
    "\t\t\t\t\t\t\t\t\t\t\t\t\t\t\t\t\t\t\t\t\t\t 'date'])[['year_deadline','month_deadline']]\n",
    "df_launched = pd.DataFrame(categorical_data.launched.str.split('-').tolist(), columns = ['year_launched',\n",
    "\t\t\t\t\t\t\t\t\t\t\t\t\t\t\t\t\t\t\t\t\t\t 'month_launched',\n",
    "\t\t\t\t\t\t\t\t\t\t\t\t\t\t\t\t\t\t\t\t\t\t 'date'])[['year_launched','month_launched']]"
   ]
  },
  {
   "cell_type": "code",
   "execution_count": 20,
   "metadata": {},
   "outputs": [
    {
     "data": {
      "text/html": [
       "<div>\n",
       "<style scoped>\n",
       "    .dataframe tbody tr th:only-of-type {\n",
       "        vertical-align: middle;\n",
       "    }\n",
       "\n",
       "    .dataframe tbody tr th {\n",
       "        vertical-align: top;\n",
       "    }\n",
       "\n",
       "    .dataframe thead th {\n",
       "        text-align: right;\n",
       "    }\n",
       "</style>\n",
       "<table border=\"1\" class=\"dataframe\">\n",
       "  <thead>\n",
       "    <tr style=\"text-align: right;\">\n",
       "      <th></th>\n",
       "      <th>year_deadline</th>\n",
       "      <th>month_deadline</th>\n",
       "    </tr>\n",
       "  </thead>\n",
       "  <tbody>\n",
       "    <tr>\n",
       "      <td>0</td>\n",
       "      <td>2015</td>\n",
       "      <td>10</td>\n",
       "    </tr>\n",
       "    <tr>\n",
       "      <td>1</td>\n",
       "      <td>2017</td>\n",
       "      <td>11</td>\n",
       "    </tr>\n",
       "    <tr>\n",
       "      <td>2</td>\n",
       "      <td>2013</td>\n",
       "      <td>02</td>\n",
       "    </tr>\n",
       "    <tr>\n",
       "      <td>3</td>\n",
       "      <td>2012</td>\n",
       "      <td>04</td>\n",
       "    </tr>\n",
       "    <tr>\n",
       "      <td>4</td>\n",
       "      <td>2015</td>\n",
       "      <td>08</td>\n",
       "    </tr>\n",
       "  </tbody>\n",
       "</table>\n",
       "</div>"
      ],
      "text/plain": [
       "  year_deadline month_deadline\n",
       "0          2015             10\n",
       "1          2017             11\n",
       "2          2013             02\n",
       "3          2012             04\n",
       "4          2015             08"
      ]
     },
     "execution_count": 20,
     "metadata": {},
     "output_type": "execute_result"
    }
   ],
   "source": [
    "df_deadline.head()"
   ]
  },
  {
   "cell_type": "code",
   "execution_count": 21,
   "metadata": {},
   "outputs": [
    {
     "data": {
      "text/html": [
       "<div>\n",
       "<style scoped>\n",
       "    .dataframe tbody tr th:only-of-type {\n",
       "        vertical-align: middle;\n",
       "    }\n",
       "\n",
       "    .dataframe tbody tr th {\n",
       "        vertical-align: top;\n",
       "    }\n",
       "\n",
       "    .dataframe thead th {\n",
       "        text-align: right;\n",
       "    }\n",
       "</style>\n",
       "<table border=\"1\" class=\"dataframe\">\n",
       "  <thead>\n",
       "    <tr style=\"text-align: right;\">\n",
       "      <th></th>\n",
       "      <th>year_launched</th>\n",
       "      <th>month_launched</th>\n",
       "    </tr>\n",
       "  </thead>\n",
       "  <tbody>\n",
       "    <tr>\n",
       "      <td>0</td>\n",
       "      <td>2015</td>\n",
       "      <td>08</td>\n",
       "    </tr>\n",
       "    <tr>\n",
       "      <td>1</td>\n",
       "      <td>2017</td>\n",
       "      <td>09</td>\n",
       "    </tr>\n",
       "    <tr>\n",
       "      <td>2</td>\n",
       "      <td>2013</td>\n",
       "      <td>01</td>\n",
       "    </tr>\n",
       "    <tr>\n",
       "      <td>3</td>\n",
       "      <td>2012</td>\n",
       "      <td>03</td>\n",
       "    </tr>\n",
       "    <tr>\n",
       "      <td>4</td>\n",
       "      <td>2015</td>\n",
       "      <td>07</td>\n",
       "    </tr>\n",
       "  </tbody>\n",
       "</table>\n",
       "</div>"
      ],
      "text/plain": [
       "  year_launched month_launched\n",
       "0          2015             08\n",
       "1          2017             09\n",
       "2          2013             01\n",
       "3          2012             03\n",
       "4          2015             07"
      ]
     },
     "execution_count": 21,
     "metadata": {},
     "output_type": "execute_result"
    }
   ],
   "source": [
    "df_launched.head()"
   ]
  },
  {
   "cell_type": "markdown",
   "metadata": {},
   "source": [
    "# Visualizations\n",
    "1. This is important to vidualize your data, before proceeding to next step.\n",
    "2. See the distribution of the data.\n",
    "3. Find how to normalize or split the data for dta analysis."
   ]
  },
  {
   "cell_type": "code",
   "execution_count": 22,
   "metadata": {},
   "outputs": [],
   "source": [
    "import matplotlib.pyplot as plt\n",
    "def plot_category(data):\n",
    "    plt.bar(data.index, data.values, align='center', alpha=0.5)\n",
    "    # plt.xticks(category_stat.index, objects)\n",
    "    plt.ylabel('Usage')\n",
    "    plt.title('Categories')\n",
    "    plt.show()"
   ]
  },
  {
   "cell_type": "code",
   "execution_count": 23,
   "metadata": {},
   "outputs": [
    {
     "data": {
      "image/png": "[encoded data removed]",
      "text/plain": [
       "<Figure size 432x288 with 1 Axes>"
      ]
     },
     "metadata": {
      "needs_background": "light"
     },
     "output_type": "display_data"
    }
   ],
   "source": [
    "plot_category(category_stat)"
   ]
  },
  {
   "cell_type": "code",
   "execution_count": 24,
   "metadata": {},
   "outputs": [
    {
     "data": {
      "image/png": "[encoded data removed]",
      "text/plain": [
       "<Figure size 432x288 with 1 Axes>"
      ]
     },
     "metadata": {
      "needs_background": "light"
     },
     "output_type": "display_data"
    }
   ],
   "source": [
    "plot_category(main_category_stat)"
   ]
  },
  {
   "cell_type": "code",
   "execution_count": 25,
   "metadata": {},
   "outputs": [
    {
     "data": {
      "image/png": "[encoded data removed]",
      "text/plain": [
       "<Figure size 432x288 with 1 Axes>"
      ]
     },
     "metadata": {
      "needs_background": "light"
     },
     "output_type": "display_data"
    }
   ],
   "source": [
    "plot_category(currency_stat)"
   ]
  },
  {
   "cell_type": "code",
   "execution_count": 26,
   "metadata": {},
   "outputs": [
    {
     "data": {
      "image/png": "[encoded data removed]",
      "text/plain": [
       "<Figure size 432x288 with 1 Axes>"
      ]
     },
     "metadata": {
      "needs_background": "light"
     },
     "output_type": "display_data"
    }
   ],
   "source": [
    "plot_category(state_stat)"
   ]
  },
  {
   "cell_type": "code",
   "execution_count": 27,
   "metadata": {},
   "outputs": [
    {
     "data": {
      "text/plain": [
       "array([49080.79152057,  9682.97933946,   105.61747579,  6966.16849911,\n",
       "        9058.92407412, 45454.40146545])"
      ]
     },
     "execution_count": 27,
     "metadata": {},
     "output_type": "execute_result"
    }
   ],
   "source": [
    "np.mean(continuous_data).values"
   ]
  },
  {
   "cell_type": "code",
   "execution_count": 28,
   "metadata": {},
   "outputs": [
    {
     "data": {
      "text/plain": [
       "array([1.18338970e+06, 9.56358837e+04, 9.07183837e+02, 7.82475109e+04,\n",
       "       9.09732230e+04, 1.15294853e+06])"
      ]
     },
     "execution_count": 28,
     "metadata": {},
     "output_type": "execute_result"
    }
   ],
   "source": [
    "np.std(continuous_data).values"
   ]
  },
  {
   "cell_type": "code",
   "execution_count": 29,
   "metadata": {},
   "outputs": [
    {
     "data": {
      "text/plain": [
       "array([[1.00000e+03, 0.00000e+00, 0.00000e+00, 0.00000e+00, 0.00000e+00,\n",
       "        1.53395e+03],\n",
       "       [3.00000e+04, 2.42100e+03, 1.50000e+01, 1.00000e+02, 2.42100e+03,\n",
       "        3.00000e+04],\n",
       "       [4.50000e+04, 2.20000e+02, 3.00000e+00, 2.20000e+02, 2.20000e+02,\n",
       "        4.50000e+04],\n",
       "       ...,\n",
       "       [1.50000e+04, 2.00000e+01, 1.00000e+00, 2.00000e+01, 2.00000e+01,\n",
       "        1.50000e+04],\n",
       "       [1.50000e+04, 2.00000e+02, 6.00000e+00, 2.00000e+02, 2.00000e+02,\n",
       "        1.50000e+04],\n",
       "       [2.00000e+03, 5.24000e+02, 1.70000e+01, 5.24000e+02, 5.24000e+02,\n",
       "        2.00000e+03]])"
      ]
     },
     "execution_count": 29,
     "metadata": {},
     "output_type": "execute_result"
    }
   ],
   "source": [
    "continuous_data.values"
   ]
  },
  {
   "cell_type": "markdown",
   "metadata": {},
   "source": [
    "# Data normalizations\n",
    "1. I have used Mean and std normalization\n",
    "2. Continuous Data range from -1 to +1\n",
    "3. Normalization to improve the gradient descent to work efficiently\n"
   ]
  },
  {
   "cell_type": "code",
   "execution_count": 30,
   "metadata": {},
   "outputs": [],
   "source": [
    "def normalize_continuous_data(continuous_data):\n",
    "    # scaler = StandardScaler()\n",
    "    # scaler.fit(continuous_data)\n",
    "    mean_data = np.mean(continuous_data).values\n",
    "    std_data = np.std(continuous_data).values\n",
    "    continuous_data = (continuous_data.values - mean_data) / std_data\n",
    "    continuous_data = pd.DataFrame({'goal':continuous_data[:,0],\n",
    "                                    'pledged':continuous_data[:,1],\n",
    "                                    'backers':continuous_data[:,2],\n",
    "                                   'usd pledged':continuous_data[:,3],\n",
    "                                   'usd_pledged_real':continuous_data[:,4],\n",
    "                                   'usd_goal_real':continuous_data[:,5]})\n",
    "    continuous_data = continuous_data[['goal', 'pledged', 'backers', 'usd pledged', 'usd_pledged_real','usd_goal_real']]\n",
    "    pickle.dump({\"mean_data\": mean_data, \"std_data\": std_data}, open(\"mean_std.pkl\", \"wb\"))\n",
    "\n",
    "    return continuous_data"
   ]
  },
  {
   "cell_type": "code",
   "execution_count": 31,
   "metadata": {},
   "outputs": [],
   "source": [
    "# Normalize Continuous Data\n",
    "continuous_data = normalize_continuous_data(continuous_data)"
   ]
  },
  {
   "cell_type": "code",
   "execution_count": 32,
   "metadata": {},
   "outputs": [
    {
     "data": {
      "text/html": [
       "<div>\n",
       "<style scoped>\n",
       "    .dataframe tbody tr th:only-of-type {\n",
       "        vertical-align: middle;\n",
       "    }\n",
       "\n",
       "    .dataframe tbody tr th {\n",
       "        vertical-align: top;\n",
       "    }\n",
       "\n",
       "    .dataframe thead th {\n",
       "        text-align: right;\n",
       "    }\n",
       "</style>\n",
       "<table border=\"1\" class=\"dataframe\">\n",
       "  <thead>\n",
       "    <tr style=\"text-align: right;\">\n",
       "      <th></th>\n",
       "      <th>goal</th>\n",
       "      <th>pledged</th>\n",
       "      <th>backers</th>\n",
       "      <th>usd pledged</th>\n",
       "      <th>usd_pledged_real</th>\n",
       "      <th>usd_goal_real</th>\n",
       "    </tr>\n",
       "  </thead>\n",
       "  <tbody>\n",
       "    <tr>\n",
       "      <td>0</td>\n",
       "      <td>-0.040630</td>\n",
       "      <td>-0.101248</td>\n",
       "      <td>-0.116423</td>\n",
       "      <td>-0.089027</td>\n",
       "      <td>-0.099578</td>\n",
       "      <td>-0.038094</td>\n",
       "    </tr>\n",
       "    <tr>\n",
       "      <td>1</td>\n",
       "      <td>-0.016124</td>\n",
       "      <td>-0.075934</td>\n",
       "      <td>-0.099889</td>\n",
       "      <td>-0.087749</td>\n",
       "      <td>-0.072966</td>\n",
       "      <td>-0.013404</td>\n",
       "    </tr>\n",
       "    <tr>\n",
       "      <td>2</td>\n",
       "      <td>-0.003448</td>\n",
       "      <td>-0.098948</td>\n",
       "      <td>-0.113117</td>\n",
       "      <td>-0.086216</td>\n",
       "      <td>-0.097160</td>\n",
       "      <td>-0.000394</td>\n",
       "    </tr>\n",
       "    <tr>\n",
       "      <td>3</td>\n",
       "      <td>-0.037250</td>\n",
       "      <td>-0.101238</td>\n",
       "      <td>-0.115321</td>\n",
       "      <td>-0.089015</td>\n",
       "      <td>-0.099567</td>\n",
       "      <td>-0.035088</td>\n",
       "    </tr>\n",
       "    <tr>\n",
       "      <td>4</td>\n",
       "      <td>-0.024997</td>\n",
       "      <td>-0.087833</td>\n",
       "      <td>-0.100991</td>\n",
       "      <td>-0.072631</td>\n",
       "      <td>-0.085475</td>\n",
       "      <td>-0.022511</td>\n",
       "    </tr>\n",
       "  </tbody>\n",
       "</table>\n",
       "</div>"
      ],
      "text/plain": [
       "       goal   pledged   backers  usd pledged  usd_pledged_real  usd_goal_real\n",
       "0 -0.040630 -0.101248 -0.116423    -0.089027         -0.099578      -0.038094\n",
       "1 -0.016124 -0.075934 -0.099889    -0.087749         -0.072966      -0.013404\n",
       "2 -0.003448 -0.098948 -0.113117    -0.086216         -0.097160      -0.000394\n",
       "3 -0.037250 -0.101238 -0.115321    -0.089015         -0.099567      -0.035088\n",
       "4 -0.024997 -0.087833 -0.100991    -0.072631         -0.085475      -0.022511"
      ]
     },
     "execution_count": 32,
     "metadata": {},
     "output_type": "execute_result"
    }
   ],
   "source": [
    "continuous_data.head()"
   ]
  },
  {
   "cell_type": "markdown",
   "metadata": {},
   "source": [
    "## Find correlation of data columns\n",
    "1. Find the correlation values of continuous data columns\n",
    "2. Remove the highly correlated values, because this feature/values will not affect much for our model building for data analysis."
   ]
  },
  {
   "cell_type": "code",
   "execution_count": 33,
   "metadata": {},
   "outputs": [
    {
     "data": {
      "text/html": [
       "<div>\n",
       "<style scoped>\n",
       "    .dataframe tbody tr th:only-of-type {\n",
       "        vertical-align: middle;\n",
       "    }\n",
       "\n",
       "    .dataframe tbody tr th {\n",
       "        vertical-align: top;\n",
       "    }\n",
       "\n",
       "    .dataframe thead th {\n",
       "        text-align: right;\n",
       "    }\n",
       "</style>\n",
       "<table border=\"1\" class=\"dataframe\">\n",
       "  <thead>\n",
       "    <tr style=\"text-align: right;\">\n",
       "      <th></th>\n",
       "      <th>goal</th>\n",
       "      <th>pledged</th>\n",
       "      <th>backers</th>\n",
       "      <th>usd pledged</th>\n",
       "      <th>usd_pledged_real</th>\n",
       "      <th>usd_goal_real</th>\n",
       "    </tr>\n",
       "  </thead>\n",
       "  <tbody>\n",
       "    <tr>\n",
       "      <td>goal</td>\n",
       "      <td>1.000003</td>\n",
       "      <td>0.007358</td>\n",
       "      <td>0.004012</td>\n",
       "      <td>0.005567</td>\n",
       "      <td>0.005104</td>\n",
       "      <td>0.942694</td>\n",
       "    </tr>\n",
       "    <tr>\n",
       "      <td>pledged</td>\n",
       "      <td>0.007358</td>\n",
       "      <td>1.000003</td>\n",
       "      <td>0.717081</td>\n",
       "      <td>0.856431</td>\n",
       "      <td>0.952845</td>\n",
       "      <td>0.005024</td>\n",
       "    </tr>\n",
       "    <tr>\n",
       "      <td>backers</td>\n",
       "      <td>0.004012</td>\n",
       "      <td>0.717081</td>\n",
       "      <td>1.000003</td>\n",
       "      <td>0.697457</td>\n",
       "      <td>0.752541</td>\n",
       "      <td>0.004517</td>\n",
       "    </tr>\n",
       "    <tr>\n",
       "      <td>usd pledged</td>\n",
       "      <td>0.005567</td>\n",
       "      <td>0.856431</td>\n",
       "      <td>0.697457</td>\n",
       "      <td>1.000003</td>\n",
       "      <td>0.906641</td>\n",
       "      <td>0.006204</td>\n",
       "    </tr>\n",
       "    <tr>\n",
       "      <td>usd_pledged_real</td>\n",
       "      <td>0.005104</td>\n",
       "      <td>0.952845</td>\n",
       "      <td>0.752541</td>\n",
       "      <td>0.906641</td>\n",
       "      <td>1.000003</td>\n",
       "      <td>0.005596</td>\n",
       "    </tr>\n",
       "    <tr>\n",
       "      <td>usd_goal_real</td>\n",
       "      <td>0.942694</td>\n",
       "      <td>0.005024</td>\n",
       "      <td>0.004517</td>\n",
       "      <td>0.006204</td>\n",
       "      <td>0.005596</td>\n",
       "      <td>1.000003</td>\n",
       "    </tr>\n",
       "  </tbody>\n",
       "</table>\n",
       "</div>"
      ],
      "text/plain": [
       "                      goal   pledged   backers  usd pledged  usd_pledged_real  \\\n",
       "goal              1.000003  0.007358  0.004012     0.005567          0.005104   \n",
       "pledged           0.007358  1.000003  0.717081     0.856431          0.952845   \n",
       "backers           0.004012  0.717081  1.000003     0.697457          0.752541   \n",
       "usd pledged       0.005567  0.856431  0.697457     1.000003          0.906641   \n",
       "usd_pledged_real  0.005104  0.952845  0.752541     0.906641          1.000003   \n",
       "usd_goal_real     0.942694  0.005024  0.004517     0.006204          0.005596   \n",
       "\n",
       "                  usd_goal_real  \n",
       "goal                   0.942694  \n",
       "pledged                0.005024  \n",
       "backers                0.004517  \n",
       "usd pledged            0.006204  \n",
       "usd_pledged_real       0.005596  \n",
       "usd_goal_real          1.000003  "
      ]
     },
     "execution_count": 33,
     "metadata": {},
     "output_type": "execute_result"
    }
   ],
   "source": [
    "continuous_data.cov()"
   ]
  },
  {
   "cell_type": "code",
   "execution_count": 34,
   "metadata": {},
   "outputs": [
    {
     "data": {
      "text/html": [
       "<div>\n",
       "<style scoped>\n",
       "    .dataframe tbody tr th:only-of-type {\n",
       "        vertical-align: middle;\n",
       "    }\n",
       "\n",
       "    .dataframe tbody tr th {\n",
       "        vertical-align: top;\n",
       "    }\n",
       "\n",
       "    .dataframe thead th {\n",
       "        text-align: right;\n",
       "    }\n",
       "</style>\n",
       "<table border=\"1\" class=\"dataframe\">\n",
       "  <thead>\n",
       "    <tr style=\"text-align: right;\">\n",
       "      <th></th>\n",
       "      <th>goal</th>\n",
       "      <th>pledged</th>\n",
       "      <th>backers</th>\n",
       "      <th>usd pledged</th>\n",
       "      <th>usd_pledged_real</th>\n",
       "      <th>usd_goal_real</th>\n",
       "    </tr>\n",
       "  </thead>\n",
       "  <tbody>\n",
       "    <tr>\n",
       "      <td>goal</td>\n",
       "      <td>1.000000</td>\n",
       "      <td>0.007358</td>\n",
       "      <td>0.004012</td>\n",
       "      <td>0.005567</td>\n",
       "      <td>0.005104</td>\n",
       "      <td>0.942692</td>\n",
       "    </tr>\n",
       "    <tr>\n",
       "      <td>pledged</td>\n",
       "      <td>0.007358</td>\n",
       "      <td>1.000000</td>\n",
       "      <td>0.717079</td>\n",
       "      <td>0.856429</td>\n",
       "      <td>0.952843</td>\n",
       "      <td>0.005024</td>\n",
       "    </tr>\n",
       "    <tr>\n",
       "      <td>backers</td>\n",
       "      <td>0.004012</td>\n",
       "      <td>0.717079</td>\n",
       "      <td>1.000000</td>\n",
       "      <td>0.697455</td>\n",
       "      <td>0.752539</td>\n",
       "      <td>0.004517</td>\n",
       "    </tr>\n",
       "    <tr>\n",
       "      <td>usd pledged</td>\n",
       "      <td>0.005567</td>\n",
       "      <td>0.856429</td>\n",
       "      <td>0.697455</td>\n",
       "      <td>1.000000</td>\n",
       "      <td>0.906639</td>\n",
       "      <td>0.006204</td>\n",
       "    </tr>\n",
       "    <tr>\n",
       "      <td>usd_pledged_real</td>\n",
       "      <td>0.005104</td>\n",
       "      <td>0.952843</td>\n",
       "      <td>0.752539</td>\n",
       "      <td>0.906639</td>\n",
       "      <td>1.000000</td>\n",
       "      <td>0.005596</td>\n",
       "    </tr>\n",
       "    <tr>\n",
       "      <td>usd_goal_real</td>\n",
       "      <td>0.942692</td>\n",
       "      <td>0.005024</td>\n",
       "      <td>0.004517</td>\n",
       "      <td>0.006204</td>\n",
       "      <td>0.005596</td>\n",
       "      <td>1.000000</td>\n",
       "    </tr>\n",
       "  </tbody>\n",
       "</table>\n",
       "</div>"
      ],
      "text/plain": [
       "                      goal   pledged   backers  usd pledged  usd_pledged_real  \\\n",
       "goal              1.000000  0.007358  0.004012     0.005567          0.005104   \n",
       "pledged           0.007358  1.000000  0.717079     0.856429          0.952843   \n",
       "backers           0.004012  0.717079  1.000000     0.697455          0.752539   \n",
       "usd pledged       0.005567  0.856429  0.697455     1.000000          0.906639   \n",
       "usd_pledged_real  0.005104  0.952843  0.752539     0.906639          1.000000   \n",
       "usd_goal_real     0.942692  0.005024  0.004517     0.006204          0.005596   \n",
       "\n",
       "                  usd_goal_real  \n",
       "goal                   0.942692  \n",
       "pledged                0.005024  \n",
       "backers                0.004517  \n",
       "usd pledged            0.006204  \n",
       "usd_pledged_real       0.005596  \n",
       "usd_goal_real          1.000000  "
      ]
     },
     "execution_count": 34,
     "metadata": {},
     "output_type": "execute_result"
    }
   ],
   "source": [
    "continuous_data.corr()"
   ]
  },
  {
   "cell_type": "code",
   "execution_count": 35,
   "metadata": {},
   "outputs": [],
   "source": [
    "# continuous_data_after_corr = continuous_data[['goal','pledged','backers','usd pledged']]\n",
    "# continuous_data_after_corr.corr()\n",
    "\n",
    "# All variable keep \n",
    "# 200 category - one hot - dummy trap drop - first equal true - underfit\n",
    "# date time = month,year = on hot encode\n",
    "# time - one hot encode = hr\n",
    "# target - status - 1,0 - distribution check - uniform distribution\n",
    "# logistic regression - NN\n",
    "# randomized - unsuccessful and successful \n",
    "# modeling bentch mark = random forest [non smooth linear], SVM [] "
   ]
  },
  {
   "cell_type": "code",
   "execution_count": 36,
   "metadata": {},
   "outputs": [
    {
     "data": {
      "text/html": [
       "<div>\n",
       "<style scoped>\n",
       "    .dataframe tbody tr th:only-of-type {\n",
       "        vertical-align: middle;\n",
       "    }\n",
       "\n",
       "    .dataframe tbody tr th {\n",
       "        vertical-align: top;\n",
       "    }\n",
       "\n",
       "    .dataframe thead th {\n",
       "        text-align: right;\n",
       "    }\n",
       "</style>\n",
       "<table border=\"1\" class=\"dataframe\">\n",
       "  <thead>\n",
       "    <tr style=\"text-align: right;\">\n",
       "      <th></th>\n",
       "      <th>category</th>\n",
       "      <th>main_category</th>\n",
       "      <th>currency</th>\n",
       "      <th>deadline</th>\n",
       "      <th>launched</th>\n",
       "      <th>state</th>\n",
       "    </tr>\n",
       "  </thead>\n",
       "  <tbody>\n",
       "    <tr>\n",
       "      <td>0</td>\n",
       "      <td>Poetry</td>\n",
       "      <td>Publishing</td>\n",
       "      <td>GBP</td>\n",
       "      <td>2015-10-09</td>\n",
       "      <td>2015-08-11 12:12:28</td>\n",
       "      <td>failed</td>\n",
       "    </tr>\n",
       "    <tr>\n",
       "      <td>1</td>\n",
       "      <td>Narrative Film</td>\n",
       "      <td>Film &amp; Video</td>\n",
       "      <td>USD</td>\n",
       "      <td>2017-11-01</td>\n",
       "      <td>2017-09-02 04:43:57</td>\n",
       "      <td>failed</td>\n",
       "    </tr>\n",
       "    <tr>\n",
       "      <td>2</td>\n",
       "      <td>Narrative Film</td>\n",
       "      <td>Film &amp; Video</td>\n",
       "      <td>USD</td>\n",
       "      <td>2013-02-26</td>\n",
       "      <td>2013-01-12 00:20:50</td>\n",
       "      <td>failed</td>\n",
       "    </tr>\n",
       "    <tr>\n",
       "      <td>3</td>\n",
       "      <td>Music</td>\n",
       "      <td>Music</td>\n",
       "      <td>USD</td>\n",
       "      <td>2012-04-16</td>\n",
       "      <td>2012-03-17 03:24:11</td>\n",
       "      <td>failed</td>\n",
       "    </tr>\n",
       "    <tr>\n",
       "      <td>4</td>\n",
       "      <td>Film &amp; Video</td>\n",
       "      <td>Film &amp; Video</td>\n",
       "      <td>USD</td>\n",
       "      <td>2015-08-29</td>\n",
       "      <td>2015-07-04 08:35:03</td>\n",
       "      <td>canceled</td>\n",
       "    </tr>\n",
       "  </tbody>\n",
       "</table>\n",
       "</div>"
      ],
      "text/plain": [
       "         category main_category currency    deadline             launched  \\\n",
       "0          Poetry    Publishing      GBP  2015-10-09  2015-08-11 12:12:28   \n",
       "1  Narrative Film  Film & Video      USD  2017-11-01  2017-09-02 04:43:57   \n",
       "2  Narrative Film  Film & Video      USD  2013-02-26  2013-01-12 00:20:50   \n",
       "3           Music         Music      USD  2012-04-16  2012-03-17 03:24:11   \n",
       "4    Film & Video  Film & Video      USD  2015-08-29  2015-07-04 08:35:03   \n",
       "\n",
       "      state  \n",
       "0    failed  \n",
       "1    failed  \n",
       "2    failed  \n",
       "3    failed  \n",
       "4  canceled  "
      ]
     },
     "execution_count": 36,
     "metadata": {},
     "output_type": "execute_result"
    }
   ],
   "source": [
    "categorical_data.head()"
   ]
  },
  {
   "cell_type": "markdown",
   "metadata": {},
   "source": [
    "## Convert the Categorical Data\n",
    "1. Convert the categorical data to one hot encoding, which can be feed to the model for training or data analysis."
   ]
  },
  {
   "cell_type": "code",
   "execution_count": 37,
   "metadata": {},
   "outputs": [],
   "source": [
    "def one_hot_encoding(name, categorical_data, data, dict_categories):\n",
    "\tcat_data = categorical_data[name]\n",
    "\tlb = LabelBinarizer()\n",
    "\tlb_results = lb.fit_transform(cat_data)\n",
    "\tlb_results_df = pd.DataFrame(lb_results, columns=lb.classes_)\n",
    "\t\n",
    "\tdata = pd.concat([data, lb_results_df], axis = 1)\n",
    "\t\n",
    "\tclasses = lb.classes_\n",
    "\tdict_data = collections.defaultdict(int)\n",
    "\tj = 0\n",
    "\tfor i in classes:\n",
    "\t\tdict_data[i.lower()] = j\n",
    "\t\tj+=1\n",
    "\tdict_categories[name] = dict(dict_data)\n",
    "\t\n",
    "\treturn data"
   ]
  },
  {
   "cell_type": "code",
   "execution_count": 38,
   "metadata": {},
   "outputs": [],
   "source": [
    "# convert onhot encoding for categorical data\n",
    "dict_categories = {}\n",
    "data = continuous_data\n",
    "data = one_hot_encoding('category',categorical_data,data,dict_categories)\n",
    "data = one_hot_encoding('main_category',categorical_data,data,dict_categories)\n",
    "data = one_hot_encoding('currency',categorical_data,data,dict_categories)\n",
    "data = one_hot_encoding('year_deadline',df_deadline,data,dict_categories)\n",
    "data = one_hot_encoding('month_deadline',df_deadline,data,dict_categories)\n",
    "data = one_hot_encoding('year_launched',df_launched,data,dict_categories)\n",
    "data = one_hot_encoding('month_launched',df_launched,data,dict_categories)"
   ]
  },
  {
   "cell_type": "code",
   "execution_count": 39,
   "metadata": {},
   "outputs": [],
   "source": [
    "pickle.dump(dict_categories, open(\"categorical.pkl\", \"wb\"))"
   ]
  },
  {
   "cell_type": "code",
   "execution_count": 40,
   "metadata": {},
   "outputs": [],
   "source": [
    "# Decode Target Data\n",
    "data = pd.concat([data, categorical_data['state']], axis = 1)\n",
    "values = categorical_data['state'].astype('category').cat.categories.tolist()\n",
    "state_dict = collections.defaultdict(int)\n",
    "state_map_comp = {}\n",
    "for i in values:\n",
    "\tif i.lower() == 'successful':\n",
    "\t\tj = 1\n",
    "\telse:\n",
    "\t\tj = 0\n",
    "\tstate_dict[i.lower()] = j\n",
    "dict_categories['state'] = dict(state_dict)\n",
    "state_map_comp['state'] = dict(state_dict)\n",
    "data.replace(state_map_comp, inplace=True)"
   ]
  },
  {
   "cell_type": "code",
   "execution_count": 41,
   "metadata": {},
   "outputs": [
    {
     "data": {
      "text/html": [
       "<div>\n",
       "<style scoped>\n",
       "    .dataframe tbody tr th:only-of-type {\n",
       "        vertical-align: middle;\n",
       "    }\n",
       "\n",
       "    .dataframe tbody tr th {\n",
       "        vertical-align: top;\n",
       "    }\n",
       "\n",
       "    .dataframe thead th {\n",
       "        text-align: right;\n",
       "    }\n",
       "</style>\n",
       "<table border=\"1\" class=\"dataframe\">\n",
       "  <thead>\n",
       "    <tr style=\"text-align: right;\">\n",
       "      <th></th>\n",
       "      <th>goal</th>\n",
       "      <th>pledged</th>\n",
       "      <th>backers</th>\n",
       "      <th>usd pledged</th>\n",
       "      <th>usd_pledged_real</th>\n",
       "      <th>usd_goal_real</th>\n",
       "      <th>3D Printing</th>\n",
       "      <th>Academic</th>\n",
       "      <th>Accessories</th>\n",
       "      <th>Action</th>\n",
       "      <th>...</th>\n",
       "      <th>04</th>\n",
       "      <th>05</th>\n",
       "      <th>06</th>\n",
       "      <th>07</th>\n",
       "      <th>08</th>\n",
       "      <th>09</th>\n",
       "      <th>10</th>\n",
       "      <th>11</th>\n",
       "      <th>12</th>\n",
       "      <th>state</th>\n",
       "    </tr>\n",
       "  </thead>\n",
       "  <tbody>\n",
       "    <tr>\n",
       "      <td>0</td>\n",
       "      <td>-0.040630</td>\n",
       "      <td>-0.101248</td>\n",
       "      <td>-0.116423</td>\n",
       "      <td>-0.089027</td>\n",
       "      <td>-0.099578</td>\n",
       "      <td>-0.038094</td>\n",
       "      <td>0</td>\n",
       "      <td>0</td>\n",
       "      <td>0</td>\n",
       "      <td>0</td>\n",
       "      <td>...</td>\n",
       "      <td>0</td>\n",
       "      <td>0</td>\n",
       "      <td>0</td>\n",
       "      <td>0</td>\n",
       "      <td>1</td>\n",
       "      <td>0</td>\n",
       "      <td>0</td>\n",
       "      <td>0</td>\n",
       "      <td>0</td>\n",
       "      <td>0</td>\n",
       "    </tr>\n",
       "    <tr>\n",
       "      <td>1</td>\n",
       "      <td>-0.016124</td>\n",
       "      <td>-0.075934</td>\n",
       "      <td>-0.099889</td>\n",
       "      <td>-0.087749</td>\n",
       "      <td>-0.072966</td>\n",
       "      <td>-0.013404</td>\n",
       "      <td>0</td>\n",
       "      <td>0</td>\n",
       "      <td>0</td>\n",
       "      <td>0</td>\n",
       "      <td>...</td>\n",
       "      <td>0</td>\n",
       "      <td>0</td>\n",
       "      <td>0</td>\n",
       "      <td>0</td>\n",
       "      <td>0</td>\n",
       "      <td>1</td>\n",
       "      <td>0</td>\n",
       "      <td>0</td>\n",
       "      <td>0</td>\n",
       "      <td>0</td>\n",
       "    </tr>\n",
       "    <tr>\n",
       "      <td>2</td>\n",
       "      <td>-0.003448</td>\n",
       "      <td>-0.098948</td>\n",
       "      <td>-0.113117</td>\n",
       "      <td>-0.086216</td>\n",
       "      <td>-0.097160</td>\n",
       "      <td>-0.000394</td>\n",
       "      <td>0</td>\n",
       "      <td>0</td>\n",
       "      <td>0</td>\n",
       "      <td>0</td>\n",
       "      <td>...</td>\n",
       "      <td>0</td>\n",
       "      <td>0</td>\n",
       "      <td>0</td>\n",
       "      <td>0</td>\n",
       "      <td>0</td>\n",
       "      <td>0</td>\n",
       "      <td>0</td>\n",
       "      <td>0</td>\n",
       "      <td>0</td>\n",
       "      <td>0</td>\n",
       "    </tr>\n",
       "    <tr>\n",
       "      <td>3</td>\n",
       "      <td>-0.037250</td>\n",
       "      <td>-0.101238</td>\n",
       "      <td>-0.115321</td>\n",
       "      <td>-0.089015</td>\n",
       "      <td>-0.099567</td>\n",
       "      <td>-0.035088</td>\n",
       "      <td>0</td>\n",
       "      <td>0</td>\n",
       "      <td>0</td>\n",
       "      <td>0</td>\n",
       "      <td>...</td>\n",
       "      <td>0</td>\n",
       "      <td>0</td>\n",
       "      <td>0</td>\n",
       "      <td>0</td>\n",
       "      <td>0</td>\n",
       "      <td>0</td>\n",
       "      <td>0</td>\n",
       "      <td>0</td>\n",
       "      <td>0</td>\n",
       "      <td>0</td>\n",
       "    </tr>\n",
       "    <tr>\n",
       "      <td>4</td>\n",
       "      <td>-0.024997</td>\n",
       "      <td>-0.087833</td>\n",
       "      <td>-0.100991</td>\n",
       "      <td>-0.072631</td>\n",
       "      <td>-0.085475</td>\n",
       "      <td>-0.022511</td>\n",
       "      <td>0</td>\n",
       "      <td>0</td>\n",
       "      <td>0</td>\n",
       "      <td>0</td>\n",
       "      <td>...</td>\n",
       "      <td>0</td>\n",
       "      <td>0</td>\n",
       "      <td>0</td>\n",
       "      <td>1</td>\n",
       "      <td>0</td>\n",
       "      <td>0</td>\n",
       "      <td>0</td>\n",
       "      <td>0</td>\n",
       "      <td>0</td>\n",
       "      <td>0</td>\n",
       "    </tr>\n",
       "  </tbody>\n",
       "</table>\n",
       "<p>5 rows × 240 columns</p>\n",
       "</div>"
      ],
      "text/plain": [
       "       goal   pledged   backers  usd pledged  usd_pledged_real  usd_goal_real  \\\n",
       "0 -0.040630 -0.101248 -0.116423    -0.089027         -0.099578      -0.038094   \n",
       "1 -0.016124 -0.075934 -0.099889    -0.087749         -0.072966      -0.013404   \n",
       "2 -0.003448 -0.098948 -0.113117    -0.086216         -0.097160      -0.000394   \n",
       "3 -0.037250 -0.101238 -0.115321    -0.089015         -0.099567      -0.035088   \n",
       "4 -0.024997 -0.087833 -0.100991    -0.072631         -0.085475      -0.022511   \n",
       "\n",
       "   3D Printing  Academic  Accessories  Action  ...  04  05  06  07  08  09  \\\n",
       "0            0         0            0       0  ...   0   0   0   0   1   0   \n",
       "1            0         0            0       0  ...   0   0   0   0   0   1   \n",
       "2            0         0            0       0  ...   0   0   0   0   0   0   \n",
       "3            0         0            0       0  ...   0   0   0   0   0   0   \n",
       "4            0         0            0       0  ...   0   0   0   1   0   0   \n",
       "\n",
       "   10  11  12  state  \n",
       "0   0   0   0      0  \n",
       "1   0   0   0      0  \n",
       "2   0   0   0      0  \n",
       "3   0   0   0      0  \n",
       "4   0   0   0      0  \n",
       "\n",
       "[5 rows x 240 columns]"
      ]
     },
     "execution_count": 41,
     "metadata": {},
     "output_type": "execute_result"
    }
   ],
   "source": [
    "data.head()"
   ]
  },
  {
   "cell_type": "code",
   "execution_count": 42,
   "metadata": {},
   "outputs": [],
   "source": [
    "data1 = data"
   ]
  },
  {
   "cell_type": "code",
   "execution_count": 43,
   "metadata": {},
   "outputs": [
    {
     "data": {
      "text/html": [
       "<div>\n",
       "<style scoped>\n",
       "    .dataframe tbody tr th:only-of-type {\n",
       "        vertical-align: middle;\n",
       "    }\n",
       "\n",
       "    .dataframe tbody tr th {\n",
       "        vertical-align: top;\n",
       "    }\n",
       "\n",
       "    .dataframe thead th {\n",
       "        text-align: right;\n",
       "    }\n",
       "</style>\n",
       "<table border=\"1\" class=\"dataframe\">\n",
       "  <thead>\n",
       "    <tr style=\"text-align: right;\">\n",
       "      <th></th>\n",
       "      <th>goal</th>\n",
       "      <th>pledged</th>\n",
       "      <th>backers</th>\n",
       "      <th>usd pledged</th>\n",
       "      <th>usd_pledged_real</th>\n",
       "      <th>usd_goal_real</th>\n",
       "      <th>3D Printing</th>\n",
       "      <th>Academic</th>\n",
       "      <th>Accessories</th>\n",
       "      <th>Action</th>\n",
       "      <th>...</th>\n",
       "      <th>04</th>\n",
       "      <th>05</th>\n",
       "      <th>06</th>\n",
       "      <th>07</th>\n",
       "      <th>08</th>\n",
       "      <th>09</th>\n",
       "      <th>10</th>\n",
       "      <th>11</th>\n",
       "      <th>12</th>\n",
       "      <th>state</th>\n",
       "    </tr>\n",
       "  </thead>\n",
       "  <tbody>\n",
       "    <tr>\n",
       "      <td>129729</td>\n",
       "      <td>-0.038940</td>\n",
       "      <td>-0.100673</td>\n",
       "      <td>-0.114219</td>\n",
       "      <td>-0.088599</td>\n",
       "      <td>-0.098888</td>\n",
       "      <td>-0.036455</td>\n",
       "      <td>0</td>\n",
       "      <td>0</td>\n",
       "      <td>0</td>\n",
       "      <td>0</td>\n",
       "      <td>...</td>\n",
       "      <td>0</td>\n",
       "      <td>0</td>\n",
       "      <td>1</td>\n",
       "      <td>0</td>\n",
       "      <td>0</td>\n",
       "      <td>0</td>\n",
       "      <td>0</td>\n",
       "      <td>0</td>\n",
       "      <td>0</td>\n",
       "      <td>0</td>\n",
       "    </tr>\n",
       "    <tr>\n",
       "      <td>157391</td>\n",
       "      <td>-0.034038</td>\n",
       "      <td>-0.087415</td>\n",
       "      <td>-0.084456</td>\n",
       "      <td>-0.072119</td>\n",
       "      <td>-0.085035</td>\n",
       "      <td>-0.031792</td>\n",
       "      <td>0</td>\n",
       "      <td>0</td>\n",
       "      <td>0</td>\n",
       "      <td>0</td>\n",
       "      <td>...</td>\n",
       "      <td>0</td>\n",
       "      <td>0</td>\n",
       "      <td>0</td>\n",
       "      <td>0</td>\n",
       "      <td>0</td>\n",
       "      <td>0</td>\n",
       "      <td>0</td>\n",
       "      <td>0</td>\n",
       "      <td>0</td>\n",
       "      <td>0</td>\n",
       "    </tr>\n",
       "    <tr>\n",
       "      <td>270855</td>\n",
       "      <td>-0.024574</td>\n",
       "      <td>-0.101248</td>\n",
       "      <td>-0.116423</td>\n",
       "      <td>-0.089027</td>\n",
       "      <td>-0.099578</td>\n",
       "      <td>-0.022078</td>\n",
       "      <td>0</td>\n",
       "      <td>0</td>\n",
       "      <td>0</td>\n",
       "      <td>0</td>\n",
       "      <td>...</td>\n",
       "      <td>0</td>\n",
       "      <td>0</td>\n",
       "      <td>0</td>\n",
       "      <td>0</td>\n",
       "      <td>1</td>\n",
       "      <td>0</td>\n",
       "      <td>0</td>\n",
       "      <td>0</td>\n",
       "      <td>0</td>\n",
       "      <td>0</td>\n",
       "    </tr>\n",
       "    <tr>\n",
       "      <td>247626</td>\n",
       "      <td>-0.036405</td>\n",
       "      <td>-0.100360</td>\n",
       "      <td>-0.109810</td>\n",
       "      <td>-0.088657</td>\n",
       "      <td>-0.098644</td>\n",
       "      <td>-0.034220</td>\n",
       "      <td>0</td>\n",
       "      <td>0</td>\n",
       "      <td>0</td>\n",
       "      <td>0</td>\n",
       "      <td>...</td>\n",
       "      <td>0</td>\n",
       "      <td>0</td>\n",
       "      <td>0</td>\n",
       "      <td>0</td>\n",
       "      <td>1</td>\n",
       "      <td>0</td>\n",
       "      <td>0</td>\n",
       "      <td>0</td>\n",
       "      <td>0</td>\n",
       "      <td>0</td>\n",
       "    </tr>\n",
       "    <tr>\n",
       "      <td>376804</td>\n",
       "      <td>-0.037250</td>\n",
       "      <td>-0.099837</td>\n",
       "      <td>-0.112014</td>\n",
       "      <td>-0.087302</td>\n",
       "      <td>-0.098094</td>\n",
       "      <td>-0.035088</td>\n",
       "      <td>0</td>\n",
       "      <td>0</td>\n",
       "      <td>0</td>\n",
       "      <td>0</td>\n",
       "      <td>...</td>\n",
       "      <td>0</td>\n",
       "      <td>0</td>\n",
       "      <td>1</td>\n",
       "      <td>0</td>\n",
       "      <td>0</td>\n",
       "      <td>0</td>\n",
       "      <td>0</td>\n",
       "      <td>0</td>\n",
       "      <td>0</td>\n",
       "      <td>0</td>\n",
       "    </tr>\n",
       "  </tbody>\n",
       "</table>\n",
       "<p>5 rows × 240 columns</p>\n",
       "</div>"
      ],
      "text/plain": [
       "            goal   pledged   backers  usd pledged  usd_pledged_real  \\\n",
       "129729 -0.038940 -0.100673 -0.114219    -0.088599         -0.098888   \n",
       "157391 -0.034038 -0.087415 -0.084456    -0.072119         -0.085035   \n",
       "270855 -0.024574 -0.101248 -0.116423    -0.089027         -0.099578   \n",
       "247626 -0.036405 -0.100360 -0.109810    -0.088657         -0.098644   \n",
       "376804 -0.037250 -0.099837 -0.112014    -0.087302         -0.098094   \n",
       "\n",
       "        usd_goal_real  3D Printing  Academic  Accessories  Action  ...  04  \\\n",
       "129729      -0.036455            0         0            0       0  ...   0   \n",
       "157391      -0.031792            0         0            0       0  ...   0   \n",
       "270855      -0.022078            0         0            0       0  ...   0   \n",
       "247626      -0.034220            0         0            0       0  ...   0   \n",
       "376804      -0.035088            0         0            0       0  ...   0   \n",
       "\n",
       "        05  06  07  08  09  10  11  12  state  \n",
       "129729   0   1   0   0   0   0   0   0      0  \n",
       "157391   0   0   0   0   0   0   0   0      0  \n",
       "270855   0   0   0   1   0   0   0   0      0  \n",
       "247626   0   0   0   1   0   0   0   0      0  \n",
       "376804   0   1   0   0   0   0   0   0      0  \n",
       "\n",
       "[5 rows x 240 columns]"
      ]
     },
     "execution_count": 43,
     "metadata": {},
     "output_type": "execute_result"
    }
   ],
   "source": [
    "data = shuffle(data)\n",
    "data.head()"
   ]
  },
  {
   "cell_type": "markdown",
   "metadata": {},
   "source": [
    "# Split Training and Testing Data"
   ]
  },
  {
   "cell_type": "code",
   "execution_count": 44,
   "metadata": {},
   "outputs": [],
   "source": [
    "data = data.values"
   ]
  },
  {
   "cell_type": "code",
   "execution_count": 45,
   "metadata": {},
   "outputs": [
    {
     "data": {
      "text/plain": [
       "(378661, 240)"
      ]
     },
     "execution_count": 45,
     "metadata": {},
     "output_type": "execute_result"
    }
   ],
   "source": [
    "np.shape(data)"
   ]
  },
  {
   "cell_type": "code",
   "execution_count": 46,
   "metadata": {},
   "outputs": [],
   "source": [
    "features = np.shape(data)[1]-1"
   ]
  },
  {
   "cell_type": "code",
   "execution_count": 47,
   "metadata": {},
   "outputs": [],
   "source": [
    "train, test = train_test_split(data, test_size=0.2)"
   ]
  },
  {
   "cell_type": "code",
   "execution_count": 48,
   "metadata": {},
   "outputs": [
    {
     "data": {
      "text/plain": [
       "(302928, 239)"
      ]
     },
     "execution_count": 48,
     "metadata": {},
     "output_type": "execute_result"
    }
   ],
   "source": [
    "np.shape(train[:,0:features])"
   ]
  },
  {
   "cell_type": "code",
   "execution_count": 49,
   "metadata": {},
   "outputs": [],
   "source": [
    "X_train = train[:,0:features]\n",
    "Y_train = train[:,features:]"
   ]
  },
  {
   "cell_type": "code",
   "execution_count": 50,
   "metadata": {},
   "outputs": [],
   "source": [
    "validation, test = train_test_split(test, test_size=0.5)"
   ]
  },
  {
   "cell_type": "code",
   "execution_count": 51,
   "metadata": {},
   "outputs": [],
   "source": [
    "X_validation = validation[:,0:features]\n",
    "Y_validation = validation[:,features:]\n",
    "X_test = test[:,0:features]\n",
    "Y_test = test[:,features:]"
   ]
  },
  {
   "cell_type": "code",
   "execution_count": 52,
   "metadata": {},
   "outputs": [
    {
     "name": "stdout",
     "output_type": "stream",
     "text": [
      "X Train shape  (302928, 239)\n",
      "Y Train shape  (302928, 1)\n",
      "X Validation shape  (37866, 239)\n",
      "Y Validation shape  (37866, 1)\n",
      "X Test shape  (37867, 239)\n",
      "Y Test shape  (37867, 1)\n",
      "302928\n"
     ]
    }
   ],
   "source": [
    "print(\"X Train shape \" , np.shape(X_train))\n",
    "print(\"Y Train shape \", np.shape(Y_train))\n",
    "print(\"X Validation shape \", np.shape(X_validation))\n",
    "print(\"Y Validation shape \", np.shape(Y_validation))\n",
    "print(\"X Test shape \" ,np.shape(X_test))\n",
    "print(\"Y Test shape \", np.shape(Y_test))\n",
    "print(len(X_train))"
   ]
  },
  {
   "cell_type": "markdown",
   "metadata": {},
   "source": [
    "# Train Bentchmark Model RandomForest"
   ]
  },
  {
   "cell_type": "code",
   "execution_count": 53,
   "metadata": {},
   "outputs": [
    {
     "name": "stderr",
     "output_type": "stream",
     "text": [
      "/Users/anilnayak/opt/anaconda3/lib/python3.7/site-packages/ipykernel_launcher.py:2: DataConversionWarning: A column-vector y was passed when a 1d array was expected. Please change the shape of y to (n_samples,), for example using ravel().\n",
      "  \n"
     ]
    },
    {
     "data": {
      "text/plain": [
       "RandomForestClassifier(bootstrap=True, class_weight=None, criterion='gini',\n",
       "                       max_depth=None, max_features='auto', max_leaf_nodes=None,\n",
       "                       min_impurity_decrease=0.0, min_impurity_split=None,\n",
       "                       min_samples_leaf=1, min_samples_split=2,\n",
       "                       min_weight_fraction_leaf=0.0, n_estimators=10,\n",
       "                       n_jobs=None, oob_score=False, random_state=0, verbose=0,\n",
       "                       warm_start=False)"
      ]
     },
     "execution_count": 53,
     "metadata": {},
     "output_type": "execute_result"
    }
   ],
   "source": [
    "clf_RandomForest = RandomForestClassifier(n_estimators=10, max_depth=None, min_samples_split=2, random_state=0)\n",
    "clf_RandomForest.fit(X_train, Y_train)"
   ]
  },
  {
   "cell_type": "code",
   "execution_count": 54,
   "metadata": {},
   "outputs": [
    {
     "data": {
      "text/plain": [
       "array([1.27431481e-01, 1.10871449e-01, 1.41405989e-01, 1.56995174e-01,\n",
       "       2.64591138e-01, 1.14696469e-01, 8.32639402e-05, 4.34753770e-05,\n",
       "       1.28242752e-04, 4.82773677e-05])"
      ]
     },
     "execution_count": 54,
     "metadata": {},
     "output_type": "execute_result"
    }
   ],
   "source": [
    "clf_RandomForest.feature_importances_[0:10]"
   ]
  },
  {
   "cell_type": "code",
   "execution_count": 55,
   "metadata": {},
   "outputs": [
    {
     "name": "stderr",
     "output_type": "stream",
     "text": [
      "/Users/anilnayak/opt/anaconda3/lib/python3.7/site-packages/sklearn/model_selection/_split.py:1978: FutureWarning: The default value of cv will change from 3 to 5 in version 0.22. Specify it explicitly to silence this warning.\n",
      "  warnings.warn(CV_WARNING, FutureWarning)\n",
      "/Users/anilnayak/opt/anaconda3/lib/python3.7/site-packages/sklearn/model_selection/_validation.py:516: DataConversionWarning: A column-vector y was passed when a 1d array was expected. Please change the shape of y to (n_samples,), for example using ravel().\n",
      "  estimator.fit(X_train, y_train, **fit_params)\n",
      "/Users/anilnayak/opt/anaconda3/lib/python3.7/site-packages/sklearn/model_selection/_validation.py:516: DataConversionWarning: A column-vector y was passed when a 1d array was expected. Please change the shape of y to (n_samples,), for example using ravel().\n",
      "  estimator.fit(X_train, y_train, **fit_params)\n",
      "/Users/anilnayak/opt/anaconda3/lib/python3.7/site-packages/sklearn/model_selection/_validation.py:516: DataConversionWarning: A column-vector y was passed when a 1d array was expected. Please change the shape of y to (n_samples,), for example using ravel().\n",
      "  estimator.fit(X_train, y_train, **fit_params)\n",
      "/Users/anilnayak/opt/anaconda3/lib/python3.7/site-packages/sklearn/model_selection/_split.py:1978: FutureWarning: The default value of cv will change from 3 to 5 in version 0.22. Specify it explicitly to silence this warning.\n",
      "  warnings.warn(CV_WARNING, FutureWarning)\n",
      "/Users/anilnayak/opt/anaconda3/lib/python3.7/site-packages/sklearn/model_selection/_validation.py:516: DataConversionWarning: A column-vector y was passed when a 1d array was expected. Please change the shape of y to (n_samples,), for example using ravel().\n",
      "  estimator.fit(X_train, y_train, **fit_params)\n",
      "/Users/anilnayak/opt/anaconda3/lib/python3.7/site-packages/sklearn/model_selection/_validation.py:516: DataConversionWarning: A column-vector y was passed when a 1d array was expected. Please change the shape of y to (n_samples,), for example using ravel().\n",
      "  estimator.fit(X_train, y_train, **fit_params)\n",
      "/Users/anilnayak/opt/anaconda3/lib/python3.7/site-packages/sklearn/model_selection/_validation.py:516: DataConversionWarning: A column-vector y was passed when a 1d array was expected. Please change the shape of y to (n_samples,), for example using ravel().\n",
      "  estimator.fit(X_train, y_train, **fit_params)\n"
     ]
    }
   ],
   "source": [
    "scores = cross_val_score(clf_RandomForest, X_validation, Y_validation)\n",
    "scores_test = cross_val_score(clf_RandomForest, X_test, Y_test)"
   ]
  },
  {
   "cell_type": "code",
   "execution_count": 56,
   "metadata": {},
   "outputs": [
    {
     "name": "stdout",
     "output_type": "stream",
     "text": [
      "Random Forest score validation  [0.98177929 0.98177785 0.98241027]\n",
      "Random Forest score test  [0.98138319 0.97987641 0.97979718]\n"
     ]
    }
   ],
   "source": [
    "print(\"Random Forest score validation \", scores)\n",
    "print(\"Random Forest score test \", scores_test)"
   ]
  },
  {
   "cell_type": "code",
   "execution_count": 57,
   "metadata": {},
   "outputs": [
    {
     "data": {
      "text/plain": [
       "['random_forest_model_385_features.pkl']"
      ]
     },
     "execution_count": 57,
     "metadata": {},
     "output_type": "execute_result"
    }
   ],
   "source": [
    "joblib.dump(clf_RandomForest, 'random_forest_model_385_features.pkl')"
   ]
  },
  {
   "cell_type": "markdown",
   "metadata": {},
   "source": [
    "# Deep Neural Network MLP"
   ]
  },
  {
   "cell_type": "code",
   "execution_count": 58,
   "metadata": {},
   "outputs": [
    {
     "name": "stdout",
     "output_type": "stream",
     "text": [
      "WARNING:tensorflow:From /Users/anilnayak/opt/anaconda3/lib/python3.7/site-packages/tensorflow_core/python/compat/v2_compat.py:88: disable_resource_variables (from tensorflow.python.ops.variable_scope) is deprecated and will be removed in a future version.\n",
      "Instructions for updating:\n",
      "non-resource variables are not supported in the long term\n"
     ]
    }
   ],
   "source": [
    "import tensorflow.compat.v1 as tf\n",
    "tf.compat.v1.enable_eager_execution()\n",
    "tf.disable_v2_behavior()  # this is because the tensorflow 2.0 has not tf.Placeholder()\n",
    "import numpy as np"
   ]
  },
  {
   "cell_type": "code",
   "execution_count": 59,
   "metadata": {},
   "outputs": [
    {
     "name": "stdout",
     "output_type": "stream",
     "text": [
      "WARNING:tensorflow:From <ipython-input-59-e356c4f96f08>:25: batch_normalization (from tensorflow.python.layers.normalization) is deprecated and will be removed in a future version.\n",
      "Instructions for updating:\n",
      "Use keras.layers.BatchNormalization instead.  In particular, `tf.control_dependencies(tf.GraphKeys.UPDATE_OPS)` should not be used (consult the `tf.keras.layers.BatchNormalization` documentation).\n",
      "WARNING:tensorflow:From /Users/anilnayak/opt/anaconda3/lib/python3.7/site-packages/tensorflow_core/python/layers/normalization.py:327: Layer.apply (from tensorflow.python.keras.engine.base_layer) is deprecated and will be removed in a future version.\n",
      "Instructions for updating:\n",
      "Please use `layer.__call__` method instead.\n",
      "Epoch:  0 Loss:  250945.75725650787 Validation Accuracy: 0.7718534\n",
      "Epoch:  1 Loss:  45128.910289764404 Validation Accuracy: 0.8170126\n",
      "Epoch:  2 Loss:  18534.035318374634 Validation Accuracy: 0.8361327\n",
      "Epoch:  3 Loss:  9239.30665642023 Validation Accuracy: 0.84149367\n",
      "Epoch:  4 Loss:  5321.81608825922 Validation Accuracy: 0.8510273\n"
     ]
    }
   ],
   "source": [
    "n_classes = 1\n",
    "x = tf.placeholder(tf.float32, shape=[None, features], name='input_tensor')\n",
    "y = tf.placeholder(tf.float32, shape=[None, n_classes], name='output_tensor')\n",
    "\n",
    "def neural_network_model(x):\n",
    "    \n",
    "    n_nodes_hl1 = 300\n",
    "    n_nodes_hl2 = 300\n",
    "    n_nodes_hl3 = 200\n",
    "    \n",
    "    \n",
    "    hidden_1_layer = {'weights':tf.Variable(tf.random_normal([features, n_nodes_hl1])),\n",
    "                      'biases':tf.Variable(tf.random_normal([n_nodes_hl1]))}\n",
    "\n",
    "    hidden_2_layer = {'weights':tf.Variable(tf.random_normal([n_nodes_hl1, n_nodes_hl2])),\n",
    "                      'biases':tf.Variable(tf.random_normal([n_nodes_hl2]))}\n",
    "\n",
    "    hidden_3_layer = {'weights':tf.Variable(tf.random_normal([n_nodes_hl2, n_nodes_hl3])),\n",
    "                      'biases':tf.Variable(tf.random_normal([n_nodes_hl3]))}\n",
    "    \n",
    "    output_layer = {'weights':tf.Variable(tf.random_normal([n_nodes_hl3, n_classes])),\n",
    "                      'biases':tf.Variable(tf.random_normal([n_classes]))}\n",
    "    \n",
    "    l1 = tf.add(tf.matmul(x, hidden_1_layer['weights']), hidden_1_layer['biases'])\n",
    "    l1 = tf.layers.batch_normalization(l1)\n",
    "    l1 = tf.nn.relu(l1)\n",
    "\n",
    "    l2 = tf.add(tf.matmul(l1, hidden_2_layer['weights']), hidden_2_layer['biases'])\n",
    "    l2 = tf.layers.batch_normalization(l2)\n",
    "    l2 = tf.nn.relu(l2)\n",
    "    \n",
    "    l3 = tf.add(tf.matmul(l2, hidden_3_layer['weights']), hidden_3_layer['biases'])\n",
    "    l3 = tf.layers.batch_normalization(l3)\n",
    "    l3 = tf.nn.relu(l3)\n",
    "    \n",
    "    output = tf.add(tf.matmul(l3, output_layer['weights']), output_layer['biases'])\n",
    "    \n",
    "    return output\n",
    "\n",
    "prediction = neural_network_model(x)\n",
    "cost = tf.reduce_mean(tf.nn.sigmoid_cross_entropy_with_logits(logits=prediction, labels=y))\n",
    "optimizer = tf.train.AdamOptimizer().minimize(cost)\n",
    "\n",
    "predicted = tf.nn.sigmoid(prediction)\n",
    "correct_pred = tf.equal(tf.round(predicted), y)\n",
    "accuracy = tf.reduce_mean(tf.cast(correct_pred, tf.float32))\n",
    "\n",
    "hm_epochs = 5\n",
    "batch_size = 100\n",
    "\n",
    "with tf.Session() as sess:\n",
    "    sess.run(tf.global_variables_initializer())\n",
    "    \n",
    "    for epoch in range(hm_epochs):\n",
    "        epoch_loss = 0\n",
    "        start = 0\n",
    "        \n",
    "        for batch in range(len(X_train)//batch_size):\n",
    "            batch_x = X_train[start:start+batch_size]\n",
    "            batch_y = Y_train[start:start+batch_size]\n",
    "            start += batch_size\n",
    "            _, c = sess.run([optimizer, cost], feed_dict={x: batch_x, y: batch_y})\n",
    "            epoch_loss += c\n",
    "            \n",
    "        acc, p = sess.run([accuracy, tf.round(predicted)], feed_dict={x: X_validation, y: Y_validation})\n",
    "        print('Epoch: ',epoch , 'Loss: ',epoch_loss, 'Validation Accuracy:', acc)"
   ]
  },
  {
   "cell_type": "markdown",
   "metadata": {},
   "source": [
    "# Tensorflow model"
   ]
  },
  {
   "cell_type": "code",
   "execution_count": 60,
   "metadata": {},
   "outputs": [
    {
     "name": "stdout",
     "output_type": "stream",
     "text": [
      "WARNING:tensorflow:From <ipython-input-60-bd727a5a7fa0>:15: dense (from tensorflow.python.layers.core) is deprecated and will be removed in a future version.\n",
      "Instructions for updating:\n",
      "Use keras.layers.Dense instead.\n",
      "Epoch:  0 Loss:  811.0383909419179 Validation Accuracy: 0.92169756\n",
      "Epoch:  1 Loss:  587.1555454395711 Validation Accuracy: 0.9359056\n",
      "Epoch:  2 Loss:  506.83909050375223 Validation Accuracy: 0.94330007\n",
      "Epoch:  3 Loss:  451.6538819670677 Validation Accuracy: 0.94794804\n",
      "Epoch:  4 Loss:  411.05478266626596 Validation Accuracy: 0.95058894\n"
     ]
    }
   ],
   "source": [
    "n_classes = 1\n",
    "epochs = 5\n",
    "learning_rate = 0.01\n",
    "hidden_layers = features - 1\n",
    "batch_size = 100\n",
    "cost_history = np.empty(shape=[1],dtype=float)\n",
    "\n",
    "is_training=tf.Variable(True,dtype=tf.bool)\n",
    "\n",
    "X = tf.placeholder(tf.float32,[None,features], name='input_tensor') #tf.float32, shape=[None,input_features], name='input_tensor'\n",
    "Y = tf.placeholder(tf.float32,[None,n_classes],name='output_tensor')\n",
    "\n",
    "# initializer = tf.contrib.layers.xavier_initializer()\n",
    "\n",
    "h0 = tf.layers.dense(X, hidden_layers, activation=tf.nn.relu)\n",
    "h1 = tf.layers.dense(h0, n_classes, activation=None)\n",
    "cross_entropy = tf.nn.sigmoid_cross_entropy_with_logits(labels=Y, logits=h1)\n",
    "cost = tf.reduce_mean(cross_entropy)\n",
    "optimizer = tf.train.AdamOptimizer(learning_rate=learning_rate).minimize(cost)\n",
    "\n",
    "predicted = tf.nn.sigmoid(h1)\n",
    "correct_pred = tf.equal(tf.round(predicted), Y)\n",
    "accuracy = tf.reduce_mean(tf.cast(correct_pred, tf.float32))\n",
    "\n",
    "with tf.Session() as sess:\n",
    "    sess.run(tf.global_variables_initializer())\n",
    "    \n",
    "    for epoch in range(epochs):\n",
    "        epoch_loss = 0\n",
    "        start = 0\n",
    "        \n",
    "        for batch in range(len(X_train)//batch_size):\n",
    "            batch_x = X_train[start:start+batch_size]\n",
    "            batch_y = Y_train[start:start+batch_size]\n",
    "            start += batch_size\n",
    "            c, _, acc = sess.run([cost, optimizer, accuracy], feed_dict={X: batch_x, Y: batch_y})\n",
    "            epoch_loss += c\n",
    "            \n",
    "        cost_history = np.append(cost_history, epoch_loss)\n",
    "        acc, p = sess.run([accuracy, tf.round(predicted)], feed_dict={X: X_validation, Y: Y_validation})\n",
    "        print('Epoch: ',epoch , 'Loss: ',epoch_loss, 'Validation Accuracy:', acc)"
   ]
  },
  {
   "cell_type": "markdown",
   "metadata": {},
   "source": [
    "# Keras Model"
   ]
  },
  {
   "cell_type": "code",
   "execution_count": 61,
   "metadata": {},
   "outputs": [],
   "source": [
    "from keras.layers import Input, Dense, Activation, BatchNormalization\n",
    "from keras.models import Model"
   ]
  },
  {
   "cell_type": "code",
   "execution_count": 62,
   "metadata": {},
   "outputs": [
    {
     "name": "stdout",
     "output_type": "stream",
     "text": [
      "WARNING:tensorflow:From /Users/anilnayak/opt/anaconda3/lib/python3.7/site-packages/tensorflow_core/python/ops/resource_variable_ops.py:1635: calling BaseResourceVariable.__init__ (from tensorflow.python.ops.resource_variable_ops) with constraint is deprecated and will be removed in a future version.\n",
      "Instructions for updating:\n",
      "If using Keras pass *_constraint arguments to layers.\n",
      "Model: \"model_1\"\n",
      "_________________________________________________________________\n",
      "Layer (type)                 Output Shape              Param #   \n",
      "=================================================================\n",
      "input_tensor (InputLayer)    (None, 239)               0         \n",
      "_________________________________________________________________\n",
      "fc0 (Dense)                  (None, 229)               54960     \n",
      "_________________________________________________________________\n",
      "batch_normalization_1 (Batch (None, 229)               916       \n",
      "_________________________________________________________________\n",
      "fc1 (Dense)                  (None, 119)               27370     \n",
      "_________________________________________________________________\n",
      "batch_normalization_2 (Batch (None, 119)               476       \n",
      "_________________________________________________________________\n",
      "fc2 (Dense)                  (None, 1)                 120       \n",
      "_________________________________________________________________\n",
      "activation_1 (Activation)    (None, 1)                 0         \n",
      "=================================================================\n",
      "Total params: 83,842\n",
      "Trainable params: 83,146\n",
      "Non-trainable params: 696\n",
      "_________________________________________________________________\n",
      "Train on 302928 samples, validate on 37866 samples\n",
      "Epoch 1/5\n",
      "302928/302928 [==============================] - 10s 33us/step - loss: 0.2568 - accuracy: 0.8941 - val_loss: 0.1903 - val_accuracy: 0.9335\n",
      "Epoch 2/5\n",
      "302928/302928 [==============================] - 9s 31us/step - loss: 0.1471 - accuracy: 0.9438 - val_loss: 0.1601 - val_accuracy: 0.9449\n",
      "Epoch 3/5\n",
      "302928/302928 [==============================] - 9s 31us/step - loss: 0.1257 - accuracy: 0.9526 - val_loss: 0.1301 - val_accuracy: 0.9554\n",
      "Epoch 4/5\n",
      "302928/302928 [==============================] - 9s 31us/step - loss: 0.1137 - accuracy: 0.9570 - val_loss: 0.1212 - val_accuracy: 0.9628\n",
      "Epoch 5/5\n",
      "302928/302928 [==============================] - 9s 31us/step - loss: 0.1036 - accuracy: 0.9616 - val_loss: 0.1427 - val_accuracy: 0.9481\n",
      "37867/37867 [==============================] - 1s 24us/step\n",
      "[0.14718910387303286, 0.9468402862548828]\n"
     ]
    }
   ],
   "source": [
    "n_classes = 1\n",
    "epochs = 5\n",
    "learning_rate = 0.001\n",
    "\n",
    "# You can create deeper model to test the data models.\n",
    "# create more model with different number of layers and try.\n",
    "def model_keras():\n",
    "    input_tensor = Input(shape=[features], name='input_tensor')\n",
    "    \n",
    "    fc0 = Dense(units=features-10,name='fc0', activation='relu', kernel_initializer='random_uniform')(input_tensor)\n",
    "    fc0 = BatchNormalization()(fc0)\n",
    "    fc1 = Dense(units=features//2, name='fc1', activation='relu')(fc0)\n",
    "    fc1 = BatchNormalization()(fc1)\n",
    "    fc2 = Dense(units=n_classes, name='fc2', activation=None)(fc1)\n",
    "    out = Activation('sigmoid')(fc2)\n",
    "    \n",
    "    model_keras_int = Model(inputs=[input_tensor],outputs=[out])\n",
    "    model_keras_int.compile(optimizer='adam', loss='binary_crossentropy', metrics=['accuracy'])\n",
    "    \n",
    "    model_keras_int.summary()\n",
    "    \n",
    "    history = model_keras_int.fit(X_train,\n",
    "                    Y_train,\n",
    "                    epochs=5,\n",
    "                    batch_size=100,\n",
    "                    validation_data=(X_validation, Y_validation),\n",
    "                    verbose=1)\n",
    "    \n",
    "    results = model_keras_int.evaluate(X_test, Y_test)\n",
    "    print(results)\n",
    "    \n",
    "    return history, model_keras_int\n",
    "\n",
    "history,model_keras_int = model_keras()"
   ]
  },
  {
   "cell_type": "code",
   "execution_count": 63,
   "metadata": {},
   "outputs": [
    {
     "name": "stdout",
     "output_type": "stream",
     "text": [
      "Model: \"model_1\"\n",
      "_________________________________________________________________\n",
      "Layer (type)                 Output Shape              Param #   \n",
      "=================================================================\n",
      "input_tensor (InputLayer)    (None, 239)               0         \n",
      "_________________________________________________________________\n",
      "fc0 (Dense)                  (None, 229)               54960     \n",
      "_________________________________________________________________\n",
      "batch_normalization_1 (Batch (None, 229)               916       \n",
      "_________________________________________________________________\n",
      "fc1 (Dense)                  (None, 119)               27370     \n",
      "_________________________________________________________________\n",
      "batch_normalization_2 (Batch (None, 119)               476       \n",
      "_________________________________________________________________\n",
      "fc2 (Dense)                  (None, 1)                 120       \n",
      "_________________________________________________________________\n",
      "activation_1 (Activation)    (None, 1)                 0         \n",
      "=================================================================\n",
      "Total params: 83,842\n",
      "Trainable params: 83,146\n",
      "Non-trainable params: 696\n",
      "_________________________________________________________________\n"
     ]
    }
   ],
   "source": [
    "model_keras_int.summary()"
   ]
  },
  {
   "cell_type": "code",
   "execution_count": 66,
   "metadata": {},
   "outputs": [],
   "source": [
    "if tf.executing_eagerly():\n",
    "    model_name = 'model_keras.h5'\n",
    "    model_keras_int.save(model_name)"
   ]
  },
  {
   "cell_type": "code",
   "execution_count": 71,
   "metadata": {},
   "outputs": [
    {
     "data": {
      "text/plain": [
       "{'val_loss': [0.19029825492557642,\n",
       "  0.1601237250010009,\n",
       "  0.13009192989867105,\n",
       "  0.12117486244470616,\n",
       "  0.1427421125788032],\n",
       " 'val_accuracy': [0.9335287809371948,\n",
       "  0.9449374079704285,\n",
       "  0.9553953409194946,\n",
       "  0.9628162384033203,\n",
       "  0.9481064677238464],\n",
       " 'loss': [0.2568134118090617,\n",
       "  0.14713877302992975,\n",
       "  0.12574265336264442,\n",
       "  0.11374390603580348,\n",
       "  0.10364656051578931],\n",
       " 'accuracy': [0.8940606, 0.943848, 0.952596, 0.95699966, 0.9615684]}"
      ]
     },
     "execution_count": 71,
     "metadata": {},
     "output_type": "execute_result"
    }
   ],
   "source": [
    "history.history"
   ]
  },
  {
   "cell_type": "code",
   "execution_count": 67,
   "metadata": {},
   "outputs": [
    {
     "data": {
      "image/png": "[encoded data removed]",
      "text/plain": [
       "<Figure size 432x288 with 1 Axes>"
      ]
     },
     "metadata": {
      "needs_background": "light"
     },
     "output_type": "display_data"
    }
   ],
   "source": [
    "import matplotlib.pyplot as plt\n",
    "loss = history.history['loss']\n",
    "val_loss = history.history['val_loss']\n",
    "epochs = range(1, len(loss) + 1)\n",
    "plt.plot(epochs, loss, 'bo', label='Training loss')\n",
    "plt.plot(epochs, val_loss, 'b', label='Validation loss')\n",
    "plt.title('Training and validation loss')\n",
    "plt.xlabel('Epochs')\n",
    "plt.ylabel('Loss')\n",
    "plt.legend()\n",
    "plt.show()"
   ]
  },
  {
   "cell_type": "code",
   "execution_count": 72,
   "metadata": {},
   "outputs": [
    {
     "data": {
      "image/png": "[encoded data removed]",
      "text/plain": [
       "<Figure size 432x288 with 1 Axes>"
      ]
     },
     "metadata": {
      "needs_background": "light"
     },
     "output_type": "display_data"
    }
   ],
   "source": [
    "acc = history.history['accuracy']\n",
    "val_acc = history.history['val_accuracy']\n",
    "plt.plot(epochs, acc, 'bo', label='Training acc')\n",
    "plt.plot(epochs, val_acc, 'b', label='Validation acc')\n",
    "plt.title('Training and validation accuracy')\n",
    "plt.xlabel('Epochs')\n",
    "plt.ylabel('Accuracy')\n",
    "plt.legend()\n",
    "plt.show()"
   ]
  },
  {
   "cell_type": "code",
   "execution_count": 73,
   "metadata": {},
   "outputs": [
    {
     "name": "stderr",
     "output_type": "stream",
     "text": [
      "/Users/anilnayak/opt/anaconda3/lib/python3.7/site-packages/keras/engine/saving.py:341: UserWarning: No training configuration found in save file: the model was *not* compiled. Compile it manually.\n",
      "  warnings.warn('No training configuration found in save file: '\n"
     ]
    }
   ],
   "source": [
    "def load_model_keras():\n",
    "    return load_model(model_name)\n",
    "model_load = load_model_keras()"
   ]
  },
  {
   "cell_type": "code",
   "execution_count": 74,
   "metadata": {},
   "outputs": [
    {
     "name": "stdout",
     "output_type": "stream",
     "text": [
      "Model: \"model_1\"\n",
      "_________________________________________________________________\n",
      "Layer (type)                 Output Shape              Param #   \n",
      "=================================================================\n",
      "input_tensor (InputLayer)    (None, 239)               0         \n",
      "_________________________________________________________________\n",
      "fc0 (Dense)                  (None, 229)               54960     \n",
      "_________________________________________________________________\n",
      "batch_normalization_1 (Batch (None, 229)               916       \n",
      "_________________________________________________________________\n",
      "fc1 (Dense)                  (None, 119)               27370     \n",
      "_________________________________________________________________\n",
      "batch_normalization_2 (Batch (None, 119)               476       \n",
      "_________________________________________________________________\n",
      "fc2 (Dense)                  (None, 1)                 120       \n",
      "_________________________________________________________________\n",
      "activation_1 (Activation)    (None, 1)                 0         \n",
      "=================================================================\n",
      "Total params: 83,842\n",
      "Trainable params: 83,146\n",
      "Non-trainable params: 696\n",
      "_________________________________________________________________\n"
     ]
    }
   ],
   "source": [
    "model_load.summary()"
   ]
  },
  {
   "cell_type": "code",
   "execution_count": 75,
   "metadata": {},
   "outputs": [],
   "source": [
    "def predict_value(x_p, threshold=0.8):\n",
    "    prediction_p = model_load.predict(x_p, batch_size=None, verbose=0, steps=None)\n",
    "    return [1 if prediction_p[i][0] >= threshold else 0 for i in range(len(prediction_p)) ]"
   ]
  },
  {
   "cell_type": "code",
   "execution_count": 76,
   "metadata": {},
   "outputs": [],
   "source": [
    "# Read All data\n",
    "file = open('categorical.pkl','rb')\n",
    "category_data_pkl = pickle.load(file)"
   ]
  },
  {
   "cell_type": "code",
   "execution_count": 77,
   "metadata": {},
   "outputs": [],
   "source": [
    "file1 = open('mean_std.pkl','rb')\n",
    "mean_std_data_pkl = pickle.load(file1)"
   ]
  },
  {
   "cell_type": "code",
   "execution_count": 78,
   "metadata": {},
   "outputs": [
    {
     "data": {
      "text/plain": [
       "dict_keys(['category', 'main_category', 'currency', 'year_deadline', 'month_deadline', 'year_launched', 'month_launched'])"
      ]
     },
     "execution_count": 78,
     "metadata": {},
     "output_type": "execute_result"
    }
   ],
   "source": [
    "category_data_pkl.keys()"
   ]
  },
  {
   "cell_type": "code",
   "execution_count": 79,
   "metadata": {},
   "outputs": [
    {
     "data": {
      "text/plain": [
       "dict_keys(['mean_data', 'std_data'])"
      ]
     },
     "execution_count": 79,
     "metadata": {},
     "output_type": "execute_result"
    }
   ],
   "source": [
    "mean_std_data_pkl.keys()"
   ]
  },
  {
   "cell_type": "code",
   "execution_count": 80,
   "metadata": {},
   "outputs": [
    {
     "data": {
      "text/plain": [
       "{'art': 0,\n",
       " 'comics': 1,\n",
       " 'crafts': 2,\n",
       " 'dance': 3,\n",
       " 'design': 4,\n",
       " 'fashion': 5,\n",
       " 'film & video': 6,\n",
       " 'food': 7,\n",
       " 'games': 8,\n",
       " 'journalism': 9,\n",
       " 'music': 10,\n",
       " 'photography': 11,\n",
       " 'publishing': 12,\n",
       " 'technology': 13,\n",
       " 'theater': 14}"
      ]
     },
     "execution_count": 80,
     "metadata": {},
     "output_type": "execute_result"
    }
   ],
   "source": [
    "category_data_pkl['main_category']"
   ]
  },
  {
   "cell_type": "code",
   "execution_count": 81,
   "metadata": {},
   "outputs": [
    {
     "data": {
      "text/plain": [
       "{'3d printing': 0,\n",
       " 'academic': 1,\n",
       " 'accessories': 2,\n",
       " 'action': 3,\n",
       " 'animals': 4,\n",
       " 'animation': 5,\n",
       " 'anthologies': 6,\n",
       " 'apparel': 7,\n",
       " 'apps': 8,\n",
       " 'architecture': 9,\n",
       " 'art': 10,\n",
       " 'art books': 11,\n",
       " 'audio': 12,\n",
       " 'bacon': 13,\n",
       " 'blues': 14,\n",
       " 'calendars': 15,\n",
       " 'camera equipment': 16,\n",
       " 'candles': 17,\n",
       " 'ceramics': 18,\n",
       " \"children's books\": 19,\n",
       " 'childrenswear': 20,\n",
       " 'chiptune': 21,\n",
       " 'civic design': 22,\n",
       " 'classical music': 23,\n",
       " 'comedy': 24,\n",
       " 'comic books': 25,\n",
       " 'comics': 26,\n",
       " 'community gardens': 27,\n",
       " 'conceptual art': 28,\n",
       " 'cookbooks': 29,\n",
       " 'country & folk': 30,\n",
       " 'couture': 31,\n",
       " 'crafts': 32,\n",
       " 'crochet': 33,\n",
       " 'diy': 34,\n",
       " 'diy electronics': 35,\n",
       " 'dance': 36,\n",
       " 'design': 37,\n",
       " 'digital art': 38,\n",
       " 'documentary': 39,\n",
       " 'drama': 40,\n",
       " 'drinks': 41,\n",
       " 'electronic music': 42,\n",
       " 'embroidery': 43,\n",
       " 'events': 44,\n",
       " 'experimental': 45,\n",
       " 'fabrication tools': 46,\n",
       " 'faith': 47,\n",
       " 'family': 48,\n",
       " 'fantasy': 49,\n",
       " \"farmer's markets\": 50,\n",
       " 'farms': 51,\n",
       " 'fashion': 52,\n",
       " 'festivals': 53,\n",
       " 'fiction': 54,\n",
       " 'film & video': 55,\n",
       " 'fine art': 56,\n",
       " 'flight': 57,\n",
       " 'food': 58,\n",
       " 'food trucks': 59,\n",
       " 'footwear': 60,\n",
       " 'gadgets': 61,\n",
       " 'games': 62,\n",
       " 'gaming hardware': 63,\n",
       " 'glass': 64,\n",
       " 'graphic design': 65,\n",
       " 'graphic novels': 66,\n",
       " 'hardware': 67,\n",
       " 'hip-hop': 68,\n",
       " 'horror': 69,\n",
       " 'illustration': 70,\n",
       " 'immersive': 71,\n",
       " 'indie rock': 72,\n",
       " 'installations': 73,\n",
       " 'interactive design': 74,\n",
       " 'jazz': 75,\n",
       " 'jewelry': 76,\n",
       " 'journalism': 77,\n",
       " 'kids': 78,\n",
       " 'knitting': 79,\n",
       " 'latin': 80,\n",
       " 'letterpress': 81,\n",
       " 'literary journals': 82,\n",
       " 'literary spaces': 83,\n",
       " 'live games': 84,\n",
       " 'makerspaces': 85,\n",
       " 'metal': 86,\n",
       " 'mixed media': 87,\n",
       " 'mobile games': 88,\n",
       " 'movie theaters': 89,\n",
       " 'music': 90,\n",
       " 'music videos': 91,\n",
       " 'musical': 92,\n",
       " 'narrative film': 93,\n",
       " 'nature': 94,\n",
       " 'nonfiction': 95,\n",
       " 'painting': 96,\n",
       " 'people': 97,\n",
       " 'performance art': 98,\n",
       " 'performances': 99,\n",
       " 'periodicals': 100,\n",
       " 'pet fashion': 101,\n",
       " 'photo': 102,\n",
       " 'photobooks': 103,\n",
       " 'photography': 104,\n",
       " 'places': 105,\n",
       " 'playing cards': 106,\n",
       " 'plays': 107,\n",
       " 'poetry': 108,\n",
       " 'pop': 109,\n",
       " 'pottery': 110,\n",
       " 'print': 111,\n",
       " 'printing': 112,\n",
       " 'product design': 113,\n",
       " 'public art': 114,\n",
       " 'publishing': 115,\n",
       " 'punk': 116,\n",
       " 'puzzles': 117,\n",
       " 'quilts': 118,\n",
       " 'r&b': 119,\n",
       " 'radio & podcasts': 120,\n",
       " 'ready-to-wear': 121,\n",
       " 'residencies': 122,\n",
       " 'restaurants': 123,\n",
       " 'robots': 124,\n",
       " 'rock': 125,\n",
       " 'romance': 126,\n",
       " 'science fiction': 127,\n",
       " 'sculpture': 128,\n",
       " 'shorts': 129,\n",
       " 'small batch': 130,\n",
       " 'software': 131,\n",
       " 'sound': 132,\n",
       " 'space exploration': 133,\n",
       " 'spaces': 134,\n",
       " 'stationery': 135,\n",
       " 'tabletop games': 136,\n",
       " 'taxidermy': 137,\n",
       " 'technology': 138,\n",
       " 'television': 139,\n",
       " 'textiles': 140,\n",
       " 'theater': 141,\n",
       " 'thrillers': 142,\n",
       " 'translations': 143,\n",
       " 'typography': 144,\n",
       " 'vegan': 145,\n",
       " 'video': 146,\n",
       " 'video art': 147,\n",
       " 'video games': 148,\n",
       " 'wearables': 149,\n",
       " 'weaving': 150,\n",
       " 'web': 151,\n",
       " 'webcomics': 152,\n",
       " 'webseries': 153,\n",
       " 'woodworking': 154,\n",
       " 'workshops': 155,\n",
       " 'world music': 156,\n",
       " 'young adult': 157,\n",
       " 'zines': 158}"
      ]
     },
     "execution_count": 81,
     "metadata": {},
     "output_type": "execute_result"
    }
   ],
   "source": [
    "category_data_pkl['category']"
   ]
  },
  {
   "cell_type": "code",
   "execution_count": 82,
   "metadata": {},
   "outputs": [
    {
     "data": {
      "text/plain": [
       "['aud',\n",
       " 'cad',\n",
       " 'chf',\n",
       " 'dkk',\n",
       " 'eur',\n",
       " 'gbp',\n",
       " 'hkd',\n",
       " 'jpy',\n",
       " 'mxn',\n",
       " 'nok',\n",
       " 'nzd',\n",
       " 'sek',\n",
       " 'sgd',\n",
       " 'usd']"
      ]
     },
     "execution_count": 82,
     "metadata": {},
     "output_type": "execute_result"
    }
   ],
   "source": [
    "list(category_data_pkl['currency'])"
   ]
  },
  {
   "cell_type": "code",
   "execution_count": 83,
   "metadata": {},
   "outputs": [
    {
     "name": "stdout",
     "output_type": "stream",
     "text": [
      "(239,)\n",
      "(1, 239)\n",
      "[1]\n"
     ]
    }
   ],
   "source": [
    "x_p = np.array([X_test[5]])\n",
    "print(np.shape(X_test[5]))\n",
    "print(np.shape(x_p))\n",
    "print(predict_value(x_p))"
   ]
  },
  {
   "cell_type": "code",
   "execution_count": 84,
   "metadata": {},
   "outputs": [],
   "source": [
    "def prepare_data_for_testing(category, main_category, currency, deadline,\n",
    "            launched, goal=0, pledged=0, backers=0, usd_pledged=0, usd_pledged_real=0, usd_goal_real=0):\n",
    "    numerics_data = ([goal, pledged, backers, usd_pledged, usd_pledged_real, usd_goal_real] - mean_std_data_pkl['mean_data']) / mean_std_data_pkl['std_data']\n",
    "\n",
    "    category_val = [0] * len(list(category_data_pkl['category']))\n",
    "    category_val[int(category_data_pkl['category'][category])] = 1\n",
    "\n",
    "    main_category_val = [0] * len(list(category_data_pkl['main_category']))\n",
    "    main_category_val[int(category_data_pkl['main_category'][main_category])] = 1\n",
    "\n",
    "    currency_val = [0] * len(list(category_data_pkl['currency']))\n",
    "    currency_val[int(category_data_pkl['currency'][currency])] = 1\n",
    "\n",
    "    d_arr = deadline.split(\"-\")\n",
    "    year_deadline_val = [0] * len(list(category_data_pkl['year_deadline']))\n",
    "    year_deadline_val[int(category_data_pkl['year_deadline'][d_arr[0]])] = 1\n",
    "\n",
    "    month_deadline_val = [0] * len(list(category_data_pkl['month_deadline']))\n",
    "    month_deadline_val[int(category_data_pkl['month_deadline'][d_arr[1]])] = 1\n",
    "\n",
    "    l_arr = launched.split(\"-\")\n",
    "    year_launched_val = [0] * len(list(category_data_pkl['year_launched']))\n",
    "    year_launched_val[int(category_data_pkl['year_launched'][l_arr[0]])] = 1\n",
    "\n",
    "    month_launched_val = [0] * len(list(category_data_pkl['month_launched']))\n",
    "    month_launched_val[int(category_data_pkl['month_launched'][l_arr[1]])] = 1\n",
    "\n",
    "    data_o = list(numerics_data) + list(category_val) + list(main_category_val) + list(currency_val) + list(\n",
    "        year_deadline_val) + \\\n",
    "             list(month_deadline_val) + list(year_launched_val) + list(month_launched_val)\n",
    "    data_o = np.array([np.array(data_o, dtype='float')])\n",
    "\n",
    "    return data_o"
   ]
  },
  {
   "cell_type": "code",
   "execution_count": 85,
   "metadata": {},
   "outputs": [],
   "source": [
    "# Testing all possible Value : not relevant : unit testing \n",
    "\n",
    "for i in list(category_data_pkl['category']):\n",
    "    for j in list(category_data_pkl['main_category']):\n",
    "        for k in list(category_data_pkl['currency']):\n",
    "            \n",
    "            goal = np.random.randint(low=100.0, high=60000.0, size=None, dtype='l')\n",
    "            g1 = np.random.randint(low=0.0, high=20000.0, size=None, dtype='l')\n",
    "            g2 = np.random.randint(low=0.0, high=200.0, size=None, dtype='l')\n",
    "            g3 = np.random.randint(low=0.0, high=8000.0, size=None, dtype='l')\n",
    "            g4 = np.random.randint(low=0.0, high=8000.0, size=None, dtype='l')\n",
    "            g5 = np.random.randint(low=0.0, high=80000.0, size=None, dtype='l')\n",
    "            data_x = prepare_data_for_testing(i,j,k, '2017-10-10','2016-08-08 12:12:28',goal,g1,g2,g3,g4,g5)\n",
    "\n",
    "            pred = clf_RandomForest.predict(data_x)\n",
    "            data_Pred = predict_value([data_x])\n",
    "            \n",
    "            break\n"
   ]
  },
  {
   "cell_type": "markdown",
   "metadata": {},
   "source": [
    "# Analysis"
   ]
  },
  {
   "cell_type": "markdown",
   "metadata": {},
   "source": [
    "## Precision, Recall, F1 Score\n",
    "Citation: http://scikit-learn.org/stable/modules/model_evaluation.html"
   ]
  },
  {
   "cell_type": "code",
   "execution_count": 86,
   "metadata": {},
   "outputs": [],
   "source": [
    "from sklearn.metrics import precision_recall_fscore_support\n",
    "from sklearn.metrics import classification_report\n",
    "from sklearn.metrics import f1_score, log_loss, roc_auc_score, roc_curve, accuracy_score\n",
    "from sklearn.metrics import confusion_matrix"
   ]
  },
  {
   "cell_type": "code",
   "execution_count": 87,
   "metadata": {},
   "outputs": [],
   "source": [
    "x_p = []\n",
    "y_p = []\n",
    "\n",
    "for i in range(len(X_test)):\n",
    "    x_p.append(X_test[i])\n",
    "    y_p.append(Y_test[i][0])\n",
    "\n",
    "x_p = np.array(x_p)\n",
    "y_p = np.array(y_p)"
   ]
  },
  {
   "cell_type": "markdown",
   "metadata": {},
   "source": [
    "### pred_1 : for NN\n",
    "### pred_2 : for random forest"
   ]
  },
  {
   "cell_type": "code",
   "execution_count": 88,
   "metadata": {},
   "outputs": [],
   "source": [
    "pred_2 = clf_RandomForest.predict(x_p)\n",
    "pred_1 = predict_value(x_p)"
   ]
  },
  {
   "cell_type": "code",
   "execution_count": 89,
   "metadata": {},
   "outputs": [
    {
     "data": {
      "text/plain": [
       "(0.9693176239567992, 0.8757392075694855, 0.9201553398058252, None)"
      ]
     },
     "execution_count": 89,
     "metadata": {},
     "output_type": "execute_result"
    }
   ],
   "source": [
    "precision_recall_fscore_support(y_p, pred_1, average='binary') #micro,weighted,binary"
   ]
  },
  {
   "cell_type": "code",
   "execution_count": 90,
   "metadata": {},
   "outputs": [
    {
     "data": {
      "text/plain": [
       "'              precision    recall  f1-score   support\\n\\n         0.0       0.93      0.98      0.96     24339\\n         1.0       0.97      0.88      0.92     13528\\n\\n    accuracy                           0.95     37867\\n   macro avg       0.95      0.93      0.94     37867\\nweighted avg       0.95      0.95      0.95     37867\\n'"
      ]
     },
     "execution_count": 90,
     "metadata": {},
     "output_type": "execute_result"
    }
   ],
   "source": [
    "classification_report(y_p, pred_1)"
   ]
  },
  {
   "cell_type": "code",
   "execution_count": 91,
   "metadata": {},
   "outputs": [
    {
     "data": {
      "text/plain": [
       "0.9201553398058252"
      ]
     },
     "execution_count": 91,
     "metadata": {},
     "output_type": "execute_result"
    }
   ],
   "source": [
    "# F1 = 2 * (precision * recall) / (precision + recall)\n",
    "f1_score(y_p, pred_1,average='binary')"
   ]
  },
  {
   "cell_type": "code",
   "execution_count": 92,
   "metadata": {},
   "outputs": [
    {
     "data": {
      "text/plain": [
       "1.8753010303687307"
      ]
     },
     "execution_count": 92,
     "metadata": {},
     "output_type": "execute_result"
    }
   ],
   "source": [
    "# -log P(yt|yp) = -(yt log(yp) + (1 - yt) log(1 - yp))\n",
    "log_loss(y_p, pred_1)"
   ]
  },
  {
   "cell_type": "code",
   "execution_count": 93,
   "metadata": {},
   "outputs": [
    {
     "data": {
      "text/plain": [
       "0.9301659183416267"
      ]
     },
     "execution_count": 93,
     "metadata": {},
     "output_type": "execute_result"
    }
   ],
   "source": [
    "roc_auc_score(y_p, pred_1)"
   ]
  },
  {
   "cell_type": "code",
   "execution_count": 94,
   "metadata": {},
   "outputs": [
    {
     "data": {
      "text/plain": [
       "(array([0.        , 0.01540737, 1.        ]),\n",
       " array([0.        , 0.87573921, 1.        ]),\n",
       " array([2, 1, 0]))"
      ]
     },
     "execution_count": 94,
     "metadata": {},
     "output_type": "execute_result"
    }
   ],
   "source": [
    "# Increasing false positive rates such that element i is the false positive rate of predictions\n",
    "# Increasing true positive rates such that element i is the true positive rate of predictions\n",
    "\n",
    "fpr, tpr, thresholds = roc_curve(y_p, pred_1, pos_label=1)\n",
    "fpr, tpr, thresholds"
   ]
  },
  {
   "cell_type": "code",
   "execution_count": 95,
   "metadata": {},
   "outputs": [
    {
     "data": {
      "text/plain": [
       "0.9457047033036681"
      ]
     },
     "execution_count": 95,
     "metadata": {},
     "output_type": "execute_result"
    }
   ],
   "source": [
    "accuracy_score(y_p, pred_1)"
   ]
  },
  {
   "cell_type": "code",
   "execution_count": 96,
   "metadata": {},
   "outputs": [
    {
     "data": {
      "text/plain": [
       "array([[23964,   375],\n",
       "       [ 1681, 11847]])"
      ]
     },
     "execution_count": 96,
     "metadata": {},
     "output_type": "execute_result"
    }
   ],
   "source": [
    "confusion_matrix(y_p, pred_1)"
   ]
  },
  {
   "cell_type": "code",
   "execution_count": 97,
   "metadata": {},
   "outputs": [
    {
     "data": {
      "text/plain": [
       "array([23964,   375,  1681, 11847])"
      ]
     },
     "execution_count": 97,
     "metadata": {},
     "output_type": "execute_result"
    }
   ],
   "source": [
    "confusion_matrix(y_p, pred_1).ravel()\n",
    "#tp, fn, fp, tn"
   ]
  },
  {
   "cell_type": "markdown",
   "metadata": {},
   "source": [
    "## Correlation"
   ]
  },
  {
   "cell_type": "markdown",
   "metadata": {},
   "source": [
    "\n",
    "1. Corellation of Attributes\n",
    "2. Find best attribute to choose from the correlation values\n",
    "3. highly corrlelated values has to be removed with threshold > 0.8 [Note: I have used all the values]\n",
    "\n",
    " "
   ]
  },
  {
   "cell_type": "code",
   "execution_count": 98,
   "metadata": {},
   "outputs": [
    {
     "data": {
      "text/html": [
       "<div>\n",
       "<style scoped>\n",
       "    .dataframe tbody tr th:only-of-type {\n",
       "        vertical-align: middle;\n",
       "    }\n",
       "\n",
       "    .dataframe tbody tr th {\n",
       "        vertical-align: top;\n",
       "    }\n",
       "\n",
       "    .dataframe thead th {\n",
       "        text-align: right;\n",
       "    }\n",
       "</style>\n",
       "<table border=\"1\" class=\"dataframe\">\n",
       "  <thead>\n",
       "    <tr style=\"text-align: right;\">\n",
       "      <th></th>\n",
       "      <th>goal</th>\n",
       "      <th>pledged</th>\n",
       "      <th>backers</th>\n",
       "      <th>usd pledged</th>\n",
       "      <th>usd_pledged_real</th>\n",
       "      <th>usd_goal_real</th>\n",
       "    </tr>\n",
       "  </thead>\n",
       "  <tbody>\n",
       "    <tr>\n",
       "      <td>goal</td>\n",
       "      <td>1.000000</td>\n",
       "      <td>0.007358</td>\n",
       "      <td>0.004012</td>\n",
       "      <td>0.005567</td>\n",
       "      <td>0.005104</td>\n",
       "      <td>0.942692</td>\n",
       "    </tr>\n",
       "    <tr>\n",
       "      <td>pledged</td>\n",
       "      <td>0.007358</td>\n",
       "      <td>1.000000</td>\n",
       "      <td>0.717079</td>\n",
       "      <td>0.856429</td>\n",
       "      <td>0.952843</td>\n",
       "      <td>0.005024</td>\n",
       "    </tr>\n",
       "    <tr>\n",
       "      <td>backers</td>\n",
       "      <td>0.004012</td>\n",
       "      <td>0.717079</td>\n",
       "      <td>1.000000</td>\n",
       "      <td>0.697455</td>\n",
       "      <td>0.752539</td>\n",
       "      <td>0.004517</td>\n",
       "    </tr>\n",
       "    <tr>\n",
       "      <td>usd pledged</td>\n",
       "      <td>0.005567</td>\n",
       "      <td>0.856429</td>\n",
       "      <td>0.697455</td>\n",
       "      <td>1.000000</td>\n",
       "      <td>0.906639</td>\n",
       "      <td>0.006204</td>\n",
       "    </tr>\n",
       "    <tr>\n",
       "      <td>usd_pledged_real</td>\n",
       "      <td>0.005104</td>\n",
       "      <td>0.952843</td>\n",
       "      <td>0.752539</td>\n",
       "      <td>0.906639</td>\n",
       "      <td>1.000000</td>\n",
       "      <td>0.005596</td>\n",
       "    </tr>\n",
       "    <tr>\n",
       "      <td>usd_goal_real</td>\n",
       "      <td>0.942692</td>\n",
       "      <td>0.005024</td>\n",
       "      <td>0.004517</td>\n",
       "      <td>0.006204</td>\n",
       "      <td>0.005596</td>\n",
       "      <td>1.000000</td>\n",
       "    </tr>\n",
       "  </tbody>\n",
       "</table>\n",
       "</div>"
      ],
      "text/plain": [
       "                      goal   pledged   backers  usd pledged  usd_pledged_real  \\\n",
       "goal              1.000000  0.007358  0.004012     0.005567          0.005104   \n",
       "pledged           0.007358  1.000000  0.717079     0.856429          0.952843   \n",
       "backers           0.004012  0.717079  1.000000     0.697455          0.752539   \n",
       "usd pledged       0.005567  0.856429  0.697455     1.000000          0.906639   \n",
       "usd_pledged_real  0.005104  0.952843  0.752539     0.906639          1.000000   \n",
       "usd_goal_real     0.942692  0.005024  0.004517     0.006204          0.005596   \n",
       "\n",
       "                  usd_goal_real  \n",
       "goal                   0.942692  \n",
       "pledged                0.005024  \n",
       "backers                0.004517  \n",
       "usd pledged            0.006204  \n",
       "usd_pledged_real       0.005596  \n",
       "usd_goal_real          1.000000  "
      ]
     },
     "execution_count": 98,
     "metadata": {},
     "output_type": "execute_result"
    }
   ],
   "source": [
    "continuous_data.corr()"
   ]
  },
  {
   "cell_type": "code",
   "execution_count": 102,
   "metadata": {},
   "outputs": [],
   "source": [
    "from pandas.plotting import scatter_matrix\n",
    "import matplotlib.pyplot as plt\n",
    "%matplotlib inline\n",
    "scatter_matrix(continuous_data[['goal', 'pledged', 'backers', 'usd pledged', 'usd_pledged_real','usd_goal_real']],\n",
    "                        alpha=0.2,\n",
    "                         figsize=(10, 10)) \n",
    "plt.show()"
   ]
  },
  {
   "cell_type": "code",
   "execution_count": 103,
   "metadata": {},
   "outputs": [
    {
     "data": {
      "text/html": [
       "<div>\n",
       "<style scoped>\n",
       "    .dataframe tbody tr th:only-of-type {\n",
       "        vertical-align: middle;\n",
       "    }\n",
       "\n",
       "    .dataframe tbody tr th {\n",
       "        vertical-align: top;\n",
       "    }\n",
       "\n",
       "    .dataframe thead th {\n",
       "        text-align: right;\n",
       "    }\n",
       "</style>\n",
       "<table border=\"1\" class=\"dataframe\">\n",
       "  <thead>\n",
       "    <tr style=\"text-align: right;\">\n",
       "      <th></th>\n",
       "      <th>goal</th>\n",
       "      <th>pledged</th>\n",
       "      <th>backers</th>\n",
       "      <th>usd pledged</th>\n",
       "      <th>usd_pledged_real</th>\n",
       "      <th>usd_goal_real</th>\n",
       "      <th>3D Printing</th>\n",
       "      <th>Academic</th>\n",
       "      <th>Accessories</th>\n",
       "      <th>Action</th>\n",
       "      <th>...</th>\n",
       "      <th>04</th>\n",
       "      <th>05</th>\n",
       "      <th>06</th>\n",
       "      <th>07</th>\n",
       "      <th>08</th>\n",
       "      <th>09</th>\n",
       "      <th>10</th>\n",
       "      <th>11</th>\n",
       "      <th>12</th>\n",
       "      <th>state</th>\n",
       "    </tr>\n",
       "  </thead>\n",
       "  <tbody>\n",
       "    <tr>\n",
       "      <td>0</td>\n",
       "      <td>-0.040630</td>\n",
       "      <td>-0.101248</td>\n",
       "      <td>-0.116423</td>\n",
       "      <td>-0.089027</td>\n",
       "      <td>-0.099578</td>\n",
       "      <td>-0.038094</td>\n",
       "      <td>0</td>\n",
       "      <td>0</td>\n",
       "      <td>0</td>\n",
       "      <td>0</td>\n",
       "      <td>...</td>\n",
       "      <td>0</td>\n",
       "      <td>0</td>\n",
       "      <td>0</td>\n",
       "      <td>0</td>\n",
       "      <td>1</td>\n",
       "      <td>0</td>\n",
       "      <td>0</td>\n",
       "      <td>0</td>\n",
       "      <td>0</td>\n",
       "      <td>0</td>\n",
       "    </tr>\n",
       "    <tr>\n",
       "      <td>1</td>\n",
       "      <td>-0.016124</td>\n",
       "      <td>-0.075934</td>\n",
       "      <td>-0.099889</td>\n",
       "      <td>-0.087749</td>\n",
       "      <td>-0.072966</td>\n",
       "      <td>-0.013404</td>\n",
       "      <td>0</td>\n",
       "      <td>0</td>\n",
       "      <td>0</td>\n",
       "      <td>0</td>\n",
       "      <td>...</td>\n",
       "      <td>0</td>\n",
       "      <td>0</td>\n",
       "      <td>0</td>\n",
       "      <td>0</td>\n",
       "      <td>0</td>\n",
       "      <td>1</td>\n",
       "      <td>0</td>\n",
       "      <td>0</td>\n",
       "      <td>0</td>\n",
       "      <td>0</td>\n",
       "    </tr>\n",
       "    <tr>\n",
       "      <td>2</td>\n",
       "      <td>-0.003448</td>\n",
       "      <td>-0.098948</td>\n",
       "      <td>-0.113117</td>\n",
       "      <td>-0.086216</td>\n",
       "      <td>-0.097160</td>\n",
       "      <td>-0.000394</td>\n",
       "      <td>0</td>\n",
       "      <td>0</td>\n",
       "      <td>0</td>\n",
       "      <td>0</td>\n",
       "      <td>...</td>\n",
       "      <td>0</td>\n",
       "      <td>0</td>\n",
       "      <td>0</td>\n",
       "      <td>0</td>\n",
       "      <td>0</td>\n",
       "      <td>0</td>\n",
       "      <td>0</td>\n",
       "      <td>0</td>\n",
       "      <td>0</td>\n",
       "      <td>0</td>\n",
       "    </tr>\n",
       "    <tr>\n",
       "      <td>3</td>\n",
       "      <td>-0.037250</td>\n",
       "      <td>-0.101238</td>\n",
       "      <td>-0.115321</td>\n",
       "      <td>-0.089015</td>\n",
       "      <td>-0.099567</td>\n",
       "      <td>-0.035088</td>\n",
       "      <td>0</td>\n",
       "      <td>0</td>\n",
       "      <td>0</td>\n",
       "      <td>0</td>\n",
       "      <td>...</td>\n",
       "      <td>0</td>\n",
       "      <td>0</td>\n",
       "      <td>0</td>\n",
       "      <td>0</td>\n",
       "      <td>0</td>\n",
       "      <td>0</td>\n",
       "      <td>0</td>\n",
       "      <td>0</td>\n",
       "      <td>0</td>\n",
       "      <td>0</td>\n",
       "    </tr>\n",
       "    <tr>\n",
       "      <td>4</td>\n",
       "      <td>-0.024997</td>\n",
       "      <td>-0.087833</td>\n",
       "      <td>-0.100991</td>\n",
       "      <td>-0.072631</td>\n",
       "      <td>-0.085475</td>\n",
       "      <td>-0.022511</td>\n",
       "      <td>0</td>\n",
       "      <td>0</td>\n",
       "      <td>0</td>\n",
       "      <td>0</td>\n",
       "      <td>...</td>\n",
       "      <td>0</td>\n",
       "      <td>0</td>\n",
       "      <td>0</td>\n",
       "      <td>1</td>\n",
       "      <td>0</td>\n",
       "      <td>0</td>\n",
       "      <td>0</td>\n",
       "      <td>0</td>\n",
       "      <td>0</td>\n",
       "      <td>0</td>\n",
       "    </tr>\n",
       "  </tbody>\n",
       "</table>\n",
       "<p>5 rows × 240 columns</p>\n",
       "</div>"
      ],
      "text/plain": [
       "       goal   pledged   backers  usd pledged  usd_pledged_real  usd_goal_real  \\\n",
       "0 -0.040630 -0.101248 -0.116423    -0.089027         -0.099578      -0.038094   \n",
       "1 -0.016124 -0.075934 -0.099889    -0.087749         -0.072966      -0.013404   \n",
       "2 -0.003448 -0.098948 -0.113117    -0.086216         -0.097160      -0.000394   \n",
       "3 -0.037250 -0.101238 -0.115321    -0.089015         -0.099567      -0.035088   \n",
       "4 -0.024997 -0.087833 -0.100991    -0.072631         -0.085475      -0.022511   \n",
       "\n",
       "   3D Printing  Academic  Accessories  Action  ...  04  05  06  07  08  09  \\\n",
       "0            0         0            0       0  ...   0   0   0   0   1   0   \n",
       "1            0         0            0       0  ...   0   0   0   0   0   1   \n",
       "2            0         0            0       0  ...   0   0   0   0   0   0   \n",
       "3            0         0            0       0  ...   0   0   0   0   0   0   \n",
       "4            0         0            0       0  ...   0   0   0   1   0   0   \n",
       "\n",
       "   10  11  12  state  \n",
       "0   0   0   0      0  \n",
       "1   0   0   0      0  \n",
       "2   0   0   0      0  \n",
       "3   0   0   0      0  \n",
       "4   0   0   0      0  \n",
       "\n",
       "[5 rows x 240 columns]"
      ]
     },
     "execution_count": 103,
     "metadata": {},
     "output_type": "execute_result"
    }
   ],
   "source": [
    "data1.head()"
   ]
  },
  {
   "cell_type": "markdown",
   "metadata": {},
   "source": [
    "# PCA Analysis"
   ]
  },
  {
   "cell_type": "code",
   "execution_count": 104,
   "metadata": {},
   "outputs": [
    {
     "name": "stdout",
     "output_type": "stream",
     "text": [
      "(378661, 239)\n",
      "(378661, 1)\n"
     ]
    }
   ],
   "source": [
    "from sklearn.decomposition import PCA\n",
    "pca = PCA(n_components=50)\n",
    "data2 = data1.values\n",
    "data2_x = data2[:,0:239]\n",
    "data2_y = data2[:,239:]\n",
    "print(np.shape(data2_x))\n",
    "print(np.shape(data2_y))"
   ]
  },
  {
   "cell_type": "code",
   "execution_count": 105,
   "metadata": {},
   "outputs": [
    {
     "data": {
      "text/plain": [
       "PCA(copy=True, iterated_power='auto', n_components=50, random_state=None,\n",
       "    svd_solver='auto', tol=0.0, whiten=False)"
      ]
     },
     "execution_count": 105,
     "metadata": {},
     "output_type": "execute_result"
    }
   ],
   "source": [
    "pca.fit(data2_x)"
   ]
  },
  {
   "cell_type": "code",
   "execution_count": 106,
   "metadata": {},
   "outputs": [
    {
     "data": {
      "text/plain": [
       "array([[ 9.10413883e+00, -6.80259030e-03,  3.31908984e-03, ...,\n",
       "         4.77665565e-02,  1.82967080e-01, -2.53436685e-04],\n",
       "       [-6.80259030e-03,  1.17713902e+01, -1.29635759e-02, ...,\n",
       "         2.23808520e-01,  5.83486475e-01, -3.96609731e-01],\n",
       "       [ 3.31908984e-03, -1.29635759e-02,  2.33626539e+00, ...,\n",
       "         2.71714562e-02,  5.60630506e-02, -2.07520156e-02],\n",
       "       ...,\n",
       "       [ 4.77665565e-02,  2.23808520e-01,  2.71714562e-02, ...,\n",
       "         8.67871262e+01,  4.12921232e+01, -1.83895389e+00],\n",
       "       [ 1.82967080e-01,  5.83486475e-01,  5.60630506e-02, ...,\n",
       "         4.12921232e+01,  8.50288530e+01,  4.27372596e+01],\n",
       "       [-2.53436685e-04, -3.96609731e-01, -2.07520156e-02, ...,\n",
       "        -1.83895389e+00,  4.27372596e+01,  9.87976201e+01]])"
      ]
     },
     "execution_count": 106,
     "metadata": {},
     "output_type": "execute_result"
    }
   ],
   "source": [
    "pca.get_precision()"
   ]
  },
  {
   "cell_type": "code",
   "execution_count": 107,
   "metadata": {},
   "outputs": [],
   "source": [
    "data1_new = pca.transform(data2_x)"
   ]
  },
  {
   "cell_type": "code",
   "execution_count": 108,
   "metadata": {},
   "outputs": [
    {
     "data": {
      "text/plain": [
       "(378661, 50)"
      ]
     },
     "execution_count": 108,
     "metadata": {},
     "output_type": "execute_result"
    }
   ],
   "source": [
    "np.shape(data1_new)"
   ]
  },
  {
   "cell_type": "code",
   "execution_count": 109,
   "metadata": {},
   "outputs": [],
   "source": [
    "x1 = X_test[0]"
   ]
  },
  {
   "cell_type": "code",
   "execution_count": 110,
   "metadata": {},
   "outputs": [],
   "source": [
    "x_1 = pca.transform([x1])"
   ]
  },
  {
   "cell_type": "code",
   "execution_count": 111,
   "metadata": {},
   "outputs": [
    {
     "data": {
      "text/plain": [
       "(1, 50)"
      ]
     },
     "execution_count": 111,
     "metadata": {},
     "output_type": "execute_result"
    }
   ],
   "source": [
    "np.shape(x_1)"
   ]
  },
  {
   "cell_type": "code",
   "execution_count": 112,
   "metadata": {},
   "outputs": [
    {
     "data": {
      "text/plain": [
       "array([ 1.43816137e+01, -1.46963121e-01,  5.58796728e-02, -9.45159378e-01,\n",
       "       -9.45663176e-01,  5.28949018e-01,  1.37558413e+00,  4.11916774e-01,\n",
       "       -5.05684891e-01,  4.88709118e-01,  6.93998161e-01,  9.28459189e-01,\n",
       "       -4.64865806e-02,  6.25893459e-01,  8.12700361e-01,  1.07467173e+00,\n",
       "        2.84435567e+00, -4.55010329e-01,  8.75561313e-01, -2.17979989e-01,\n",
       "        7.99619783e-01,  9.34526400e-01, -4.78663295e-01, -4.35372522e-02,\n",
       "       -6.69764255e-01, -2.75009187e-01, -2.19917786e-01,  7.50538981e-02,\n",
       "       -2.94813297e-02, -4.21450108e-02, -2.78689705e-01, -1.00815155e-01,\n",
       "        8.17925749e-02, -4.72762898e-02, -1.76047844e-01, -1.57936586e-01,\n",
       "        1.29837942e-02, -3.05453697e-02, -1.46502314e-01, -1.01024557e-02,\n",
       "       -2.75403951e-01, -1.28672864e+00, -4.59176628e-01, -6.12418147e-02,\n",
       "        8.62362952e-02, -2.55839245e-03,  1.47480401e-02,  9.61105822e-03,\n",
       "       -4.68401310e-02, -3.84741303e-02])"
      ]
     },
     "execution_count": 112,
     "metadata": {},
     "output_type": "execute_result"
    }
   ],
   "source": [
    "x_1[0]"
   ]
  },
  {
   "cell_type": "markdown",
   "metadata": {},
   "source": [
    "# Model\n",
    "1. Model traied Random Forest and Neural Network\n",
    "2. Validated Neural Network model with the benchmark model Random Forest"
   ]
  },
  {
   "cell_type": "markdown",
   "metadata": {},
   "source": [
    "# Performance Metrics\n",
    "1. validation loss and testing loss is low\n",
    "2. All the model surpass the human level error assumed as 0.15\n",
    "3. As the Validation and Testing Accuracy is very much close and the Neural Network model is evaluated in comparision with the benchmark model Random Forest\n",
    "4. Evaluation is mentioned below"
   ]
  },
  {
   "cell_type": "markdown",
   "metadata": {},
   "source": [
    "# Training\n",
    "1. Training done for 5 epochs"
   ]
  },
  {
   "cell_type": "markdown",
   "metadata": {},
   "source": [
    "# Evaluation\n",
    "1. Random Forest is giving 98% accuracy\n",
    "2. Neural Network is giving 97% accuracy"
   ]
  },
  {
   "cell_type": "markdown",
   "metadata": {},
   "source": [
    "# Saving Model\n",
    "1. random_forest model saved in \"random_forest_model_features.pkl\"\n",
    "2. Keras model saved in \"model_keras.h5\"\n",
    "3. Categorical Data info dictionary saved in \"categorical.pkl\" \n",
    "4. Continuous value normalization details saved in \"mean_std.pkl\" with keys \"mean_data\" and \"std_data\""
   ]
  },
  {
   "cell_type": "markdown",
   "metadata": {},
   "source": [
    "# Project Contains\n",
    "|Module |Functionality|\n",
    "|------------|-------------|\n",
    "|training.py |[train model]|\n",
    "|testing.py |[test model]|\n",
    "|load_data.py |[load, normalize, onehot encoding,prepare data]|\n",
    "|MLP.py |[MLP model, training, evaluation]|\n",
    "|random_forest.py |[random forest model, training, evaluation]|\n",
    "|tensorflow_model.py |[tensorflow model, training, evaluation]|\n",
    "|keras_model.py |[keras model, training, evaluation]|"
   ]
  },
  {
   "cell_type": "markdown",
   "metadata": {},
   "source": [
    "# Directory and module Details"
   ]
  },
  {
   "cell_type": "markdown",
   "metadata": {},
   "source": [
    "### Testing -> testing.py\n",
    "\n",
    "1. to test the application you have to prepare the data first. this can be done by using load_data.py -> prepare_live_test_data()\n",
    "2. using testing.py, user can test the model\n",
    "\n",
    "```python\n",
    "#Import following modules\n",
    "import random_forest as rf\n",
    "import load_data as ld\n",
    "import keras_model as km\n",
    "\n",
    "# Data Handler object to load the data for training or loading pickle files for testing\n",
    "# pca_decompose=True, at testing time inut will be decomposed \n",
    "ld_obj = ld.DataHandler(pca_decompose=False)\n",
    "\n",
    "\n",
    "#loading pickle file to get the normalization details mean and std / category information to form the one hot encoding\n",
    "ld_obj.load_pickle_data()\n",
    "\n",
    "# Preparing data for testing\n",
    "data = ld_obj.prepare_live_test_data(category='academic',\n",
    "\t\t\t\t\t\t\t\t\t main_category='comics',\n",
    "\t\t\t\t\t\t\t\t\t currency='usd',\n",
    "\t\t\t\t\t\t\t\t\t deadline='2017-10-10',\n",
    "\t\t\t\t\t\t\t\t\t launched='2016-08-08 12:12:28',\n",
    "\t\t\t\t\t\t\t\t\t goal=0,\n",
    "\t\t\t\t\t\t\t\t\t pledged=0,\n",
    "\t\t\t\t\t\t\t\t\t backers=0,\n",
    "\t\t\t\t\t\t\t\t\t usd_pledged=0,\n",
    "\t\t\t\t\t\t\t\t\t usd_pledged_real=0,\n",
    "\t\t\t\t\t\t\t\t\t usd_goal_real=0)\n",
    "\n",
    "class Testing():\n",
    "\tdef __init__(self, ld_obj):\n",
    "\t\tself.ld_obj = ld_obj\n",
    "\t\tself.keras_model = None\n",
    "\t\tself.random_forest = None\n",
    "\t\n",
    "\tdef load_random_forest(self):\n",
    "\t\tself.random_forest = rf.RandomForest(self.ld_obj)\n",
    "\t\tself.random_forest.load_model()\n",
    "\t\n",
    "\tdef load_nn(self):\n",
    "\t\tself.keras_model = km.KerasModel(self.ld_obj)\n",
    "\t\tself.keras_model.load_model_keras()\n",
    "\n",
    "\tdef predict(self, x):\n",
    "\t\tprint(\"Keras Model: \", self.keras_model.predict(x))\n",
    "\t\tprint(\"Random Forest Model: \", self.random_forest.predict(x))\n",
    "\t\t\n",
    "# Small testing app to test all the model\n",
    "tst = Testing(ld_obj)\n",
    "# Loading random forest model into application\n",
    "tst.load_random_forest()\n",
    "# Loading neural network model into application\n",
    "tst.load_nn()\n",
    "# predicting the data prepared for using both the models\n",
    "tst.predict(data)\n",
    "```"
   ]
  },
  {
   "cell_type": "markdown",
   "metadata": {},
   "source": [
    "\n",
    "\n",
    "### Data Handler ->  load_data.py\n",
    "1. loading data from file and clean data for null values and blanks\n",
    "\n",
    "```python\n",
    "def load_data(self, file_name, keep_attribute)\n",
    "# file_name : data file csv\n",
    "# keep_attribute : list of attribute list to keey for data analysis\n",
    "#output\n",
    "#self.continuous_data = None\n",
    "#self.categorical_data = None\n",
    "```\n",
    "2. normalize continuous values columns\n",
    "\n",
    "```python\n",
    "def normalize_continuous_data(self)\n",
    "#self.continuous_data = None\n",
    "#saves the mean and std data in mean_std.pkl file\n",
    "```\n",
    "\n",
    "3. one hot encoding for categorical data\n",
    "\n",
    "```python\n",
    "def one_hot_encoding_categorical_data(self, categories, date_attributes)\n",
    "\n",
    "#categories : list of categorical columns for which one hot encoding will be done\n",
    "#date_attributes : date columns for which one hot encoding will be done for Year and Month values [not day value]\n",
    "```\n",
    "\n",
    "4. convert target column encoding\n",
    "\n",
    "```python\n",
    "def one_hot_encode_target_value(self, target='state', success_class='successful')\n",
    "\n",
    "#target : target column used for encoding\n",
    "#success_class: this value used for making target column value 1 and other set to 0\n",
    "```\n",
    "\n",
    "5. prepare training, testing, validation data split\n",
    "\n",
    "```python\n",
    "def prepare_data(self, test_data_perc=0.2)\n",
    "\n",
    "#test_data_perc : test data percentage split training=80%, testing=10% and validation=10%\n",
    "```\n",
    "\n",
    "5. loading pickle file for testing\n",
    "\n",
    "```python\n",
    "\n",
    "def load_pickle_data(self)\n",
    "\n",
    "#load 'categorical.pkl' for categorical data conversion\n",
    "#load 'mean_std.pkl' for normalization of testing data\n",
    "```\n",
    "\n",
    "6. preparing unseen testing data\n",
    "\n",
    "```python\n",
    "def prepare_live_test_data(self, category, main_category, currency, deadline,\n",
    "\t\t\t\tlaunched, goal=0, pledged=0, backers=0, usd_pledged=0, usd_pledged_real=0, usd_goal_real=0)\n",
    "\n",
    "#all the attributes are column names from data used for model training\n",
    "```"
   ]
  },
  {
   "cell_type": "markdown",
   "metadata": {},
   "source": [
    "### Training ->  training.py\n",
    "\n",
    "```python\n",
    "\n",
    "# pca_decompose=False, num_feature_to_decompose=50\n",
    "# PCA will be done if the flag pca_decompose is set True\n",
    "class Train():\n",
    "\tdef __init__(self, file_name, filter_attribute, pca_decompose=False, num_feature_to_decompose=50):\n",
    "\t\tself.ld_obj = ld.DataHandler(pca_decompose=pca_decompose,num_feature_to_decompose=num_feature_to_decompose)\n",
    "\t\tself.file_name = file_name\n",
    "\t\tself.filter_attribute = filter_attribute\n",
    "\t\tself.features = None\n",
    "\t\tself.classes = None\n",
    "        \n",
    "    .........\n",
    "\n",
    "# load file name\n",
    "file_name = 'data.csv'\n",
    "\n",
    "#attributes used for training\n",
    "filter_attribute = ['category', 'main_category', 'currency', 'deadline', 'goal', 'launched', 'pledged', 'state',\n",
    "\t\t\t\t\t'backers', 'usd pledged', 'usd_pledged_real', 'usd_goal_real']\n",
    "\n",
    "# Training Object\n",
    "training_obj = Train(file_name, filter_attribute)\n",
    "\n",
    "# loading data \n",
    "training_obj.loaddata()\n",
    "\n",
    "#normalizing continuous values columns\n",
    "training_obj.normalize_continuous_data()\n",
    "\n",
    "#categorical columns to be used for one hot encoding\n",
    "categories = ['category', 'main_category', 'currency']\n",
    "\n",
    "#date columns to be used for one hot encoding only [Year, Month]\n",
    "date_attributes = ['deadline', 'launched']\n",
    "\n",
    "# One hot encoding for all categorical values, this function will save the pickle files as well\n",
    "training_obj.one_hot_encoding_categorical_data(categories, date_attributes, target='state', success_class='successful')\n",
    "\n",
    "# visualize the data and split the data \n",
    "print(training_obj.ld_obj.data.head())\n",
    "training_obj.spilt_data()\n",
    "\n",
    "print(\"Training Random Forest model\")\n",
    "training_obj.random_forest()\n",
    "\n",
    "print(\"Training Tensorflow model \")\n",
    "training_obj.tensorflow_model()\n",
    "\n",
    "print(\"Training Keras model \")\n",
    "training_obj.keras_model()\n",
    "```"
   ]
  },
  {
   "cell_type": "markdown",
   "metadata": {
    "collapsed": true
   },
   "source": [
    "# Usage\n",
    "\n",
    "1. Run training.py  [as mentioned in the section (Directory and module Details -> Training )]\n",
    "    i. file_name, filter_attribute, pca_decompose=False, num_feature_to_decompose=50 \n",
    "2. Run testing.py [as mentioned in the section (Directory and module Details -> Testing)]\n",
    "    i. if pca_decompose=True while training then while testing pca_decompose=True also holds"
   ]
  },
  {
   "cell_type": "code",
   "execution_count": null,
   "metadata": {},
   "outputs": [],
   "source": []
  }
 ],
 "metadata": {
  "kernelspec": {
   "display_name": "Python 3",
   "language": "python",
   "name": "python3"
  },
  "language_info": {
   "codemirror_mode": {
    "name": "ipython",
    "version": 3
   },
   "file_extension": ".py",
   "mimetype": "text/x-python",
   "name": "python",
   "nbconvert_exporter": "python",
   "pygments_lexer": "ipython3",
   "version": "3.7.4"
  }
 },
 "nbformat": 4,
 "nbformat_minor": 2
}
